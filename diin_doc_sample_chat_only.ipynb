{
 "cells": [
  {
   "cell_type": "code",
   "execution_count": 1,
   "metadata": {},
   "outputs": [],
   "source": [
    "from langchain.embeddings.openai import OpenAIEmbeddings\n",
    "from langchain.vectorstores import Milvus\n",
    "from langchain.document_loaders import TextLoader\n",
    "from langchain.text_splitter import CharacterTextSplitter\n",
    "import os\n",
    "import ipywidgets as widgets\n",
    "from IPython.display import display\n",
    "from dotenv import load_dotenv"
   ]
  },
  {
   "cell_type": "code",
   "execution_count": 2,
   "metadata": {},
   "outputs": [],
   "source": [
    "load_dotenv()  # take environment variables from .env.\n",
    "openai_api_key = os.getenv('OPENAI_API_KEY')\n",
    "milvus_api_key = os.getenv('MILVUS_API_KEY')\n",
    "\n",
    "connection_args={\n",
    "        \"uri\": \"https://in03-5052868020ac71b.api.gcp-us-west1.zillizcloud.com\",\n",
    "        \"user\": \"vaclav@pechtor.ch\",\n",
    "        \"token\": milvus_api_key,\n",
    "        \"secure\": True\n",
    "    }\n"
   ]
  },
  {
   "cell_type": "code",
   "execution_count": 3,
   "metadata": {},
   "outputs": [],
   "source": [
    "embeddings = OpenAIEmbeddings()\n",
    "\n",
    "milvus = Milvus(embedding_function=embeddings, collection_name='Simple_DIIN_QA', connection_args=connection_args)"
   ]
  },
  {
   "cell_type": "code",
   "execution_count": 4,
   "metadata": {},
   "outputs": [
    {
     "name": "stdout",
     "output_type": "stream",
     "text": [
      "Query: Warum nutzt die Informatik SAFe?\n",
      "[Document(page_content='Die Dienststelle Informatik stellt sich in verschiedenen Bereichen auf ein sich stark änderndes Umfeld ein. Angetrieben durch die Digitalisierung richtet sie sich nach neuen Betriebsmodellen und Technologien aus. Dies umfasst auch die Auseinandersetzung mit dem Einsatz von agilen Methoden in neuen Arbeitsumgebungen. Um die lean-agile Arbeitsweise zu verankern, macht sich die Dienststelle dem Scaled Agile Framework (SAFe) als Modell für die Organisation zu Nutze. In mehreren Agile Teams, die in einem Agile Release Train organisiert sind, arbeitet die Dienststelle an den künftigen Lösungen für ihre Kundinnen und Kunden. \\nSAFe\\xa0stellt eine Reihe von Unternehmens- und Workflow-Mustern zur Implementierung von agilen Praktiken im gesamten Unternehmen bereit. Die Dienststelle Informatik orientiert sich unter anderem an strukturierten Leitlinien zu Rollen und Zuständigkeiten sowie zur Planung und Verwaltung von Aufgaben, die es ihr ermöglichen, den Nutzen für ihre Kunden laufend zu optimieren. Dabei verfolgt sie das Ziel, qualitativ hochstehende Leistungen so rasch als möglich zu erbringen. Als zentrale Elemente werden in diesem Rahmenkonzept die Abstimmung, Zusammenarbeit und Ausführung über zahlreiche agile Teams hinweg gesehen und gefördert. Im Mittelpunkt stehen dabei drei Themenbereiche: Agile-Softwareentwicklung, Lean-Produktentwicklung und Systemdenkweise. \\nEinen kurzen Überblick über das Framework von SAFe zeigt dieses englischsprachige\\xa0Video\\xa0(ca. 5 Min.).', metadata={'source': './datasets/informatik.lu.ch__Aktuelle_Projekte__SAFe.txt'}), Document(page_content='Die von uns entwickelten und betriebenen Basisinfrastrukturlösungen wie Netzwerke, Storage und Server stellen einen hochverfügbaren Service sicher.\\nMit der angebotenen Workplace-Infrastruktur arbeiten rund 6000 Nutzer flexibel und mobil. Dabei verwalten wir die zentralen Anwendungen für Kollaboration, Geschäftsfallverwaltung, Content Management und ERP.\\nDie über 1000 Fachanwendungen mit ihren Geschäftsprozessen gehören in den Verantwortungsbereich der\\xa0Departemente. Wir lösen die Integration in die Sicherheits- und Systeminfrastruktur und schützen die kantonalen Daten in der privaten und öffentlichen Cloud.\\nWir leisten mit Ideen und praktischen Lösungen einen substantiellen Beitrag zur Digitalisierung des Kantons.\\n Erfolgreiche Innovationen werden in Projekten vorangetrieben, neuerdings auch agil.\\nDie Dienststelle Informatik engagiert sich täglich für ihre vielfältigen Kunden. Jede Dienststelle und jede Schule hat ihre eigenen Systeme und Spezialitäten. In enger Zusammenarbeit mit unseren Kunden analysieren wir unterschiedlichste Anforderungen, erarbeiten passende Lösungen und setzt diese um. Wir sind zuverlässig, qualitätsbewusst und kundennah.', metadata={'source': './datasets/informatik.lu.ch__was_wir_bewegen.txt'}), Document(page_content='Werkzeugkasten mit Digitalisierungswerkzeugen\\nIm Jahr 2016 hat der Regierung die Digitalisierung des Kantons Luzern beschlossen. Dies beinhaltet unter anderem, dass Behördenleistungen der Bevölkerung und den Unternehmen elektronisch angeboten werden und dadurch zeit- und ortsunabhängig in Anspruch genommen werden können.\\nDie Dienststelle Informatik stellt die dazu notwendigen Tools zur Überwindung von Medienbrüchen bereit. Dazu gehören etwa Online-Formulare, die es Bürgerinnen und Bürgern ermöglichen, mit den Verwaltungsbehörden elektronisch in Kontakt zu treten. Durch den direkten Import der Formulardaten in die Datenbanken der Fachapplikationen entfällt das fehleranfällige Abtippen handschriftlicher Eingaben in den Dienststellen.\\nDie Dienststelle Informatik definiert in Zusammenarbeit mit ihren Kunden die Anforderungen an die benötigten Tools und konzipiert deren Einsatz. Einzelne Lösungen werden aufgrund der Spezifikationen beschafft, andere Systeme sind bereits im Einsatz und können ausgebaut werden. So wurde der Enterprise Service Bus, eine BizTalk-Lösung, dahingehend erweitert, dass er den E-Government-Anforderungen entspricht.\\nZahlreiche spannende Basisinfrastrukturprojekte sind bei der Dienststelle Informatik in Erarbeitung oder stehen noch an. \\nParallel zum Bau der Basisinfrastruktur wurden die Kernprozesse in allen Dienststellen analysiert und nach ihrem Digitalisierungspotential bewertet. Sobald das nächste Digitalisierungswerkzeug den Dienststellen zur Verfügung steht, werden in weiteren Kernprozessen unnötige Medienbrüche abgebaut.', metadata={'source': './datasets/informatik.lu.ch__Aktuelle_Projekte__Digitaler_Kanton.txt'}), Document(page_content='Mit der Einführung der Onlineformularlösung musste auf der Web Application Firewall (WAF) eine sichere Authentifizierung realisiert werden. Mit einer SMS als zweiten Sicherheitsfaktor kann heute der Jäger zur Jagdpassbestellung eindeutig und sicher authentifiziert werden. Das erlaubt den Bestellprozess für den Kunden massiv zu vereinfachen, weil die wiederholte Eingabe persönlicher und geschäftsfallbezogener Daten entfällt. \\nDie Authentifizierungslösung wurde im Anschluss durch Fachexperten bei einem Penetration-Test auf ihre Robustheit geprüft. Die Lösung kann nun auch für weitere elektronische Formulare eingesetzt werden.\\nUm die nationalen und kantonalen Vorgaben zum Schutz der Bürger in der Covid-Pandemie umzusetzen, mussten zahlreiche neue Standorte mit IT-Infrastruktur aufgebaut werden. Die DIIN richtete den Kantonalen Führungsstab (KFS) in Nottwil, 3 Drive-In – Testzentren und das Contact-Tracing Zentrum ein. Für die Covid-Impfung wurden 10 mobile Impfzentren und zwei fixe Impfzentren in Luzern und Willisau aufgebaut. Insgesamt wurden über 180 Clients, 250 Monitore, 25 Drucker und 15 Multifunktionsgeräte konfiguriert und installiert.\\nRuopigenplatz 1', metadata={'source': './datasets/informatik.lu.ch__.txt'})]\n"
     ]
    }
   ],
   "source": [
    "query = \"Warum nutzt die Informatik SAFe?\"\n",
    "print(f\"Query: {query}\")\n",
    "docs = milvus.similarity_search(query)\n",
    "\n",
    "print(docs)"
   ]
  },
  {
   "cell_type": "code",
   "execution_count": 5,
   "metadata": {},
   "outputs": [],
   "source": [
    "from langchain.prompts import PromptTemplate\n",
    "language = \"Swiss German Dialect\"\n",
    "prompt_template = f\"\"\"You are an assistant that answers questions about the Kanton Luzern,\n",
    " based on given information. Only use the information that was provided below.\n",
    " Use the following pieces of context to answer the question at the end.\n",
    " If you don't know the answer, just say that you don't know, don't try to make up an answer.\n",
    "\n",
    "{{context}}\n",
    "\n",
    "Question: {{question}}\n",
    "Answer in {language}:\"\"\"\n",
    "PROMPT = PromptTemplate(\n",
    "    template=prompt_template, input_variables=[\"context\", \"question\"]\n",
    ")\n",
    "chain_type_kwargs = {\"prompt\": PROMPT}"
   ]
  },
  {
   "cell_type": "code",
   "execution_count": 6,
   "metadata": {},
   "outputs": [],
   "source": [
    "from langchain.chains.qa_with_sources import load_qa_with_sources_chain\n",
    "from langchain.chains import RetrievalQA\n",
    "from langchain.chat_models import ChatOpenAI\n",
    "\n",
    "llm = ChatOpenAI(model_name='gpt-4-0613',temperature=0.0)\n",
    "qa = RetrievalQA.from_chain_type(llm=llm, \n",
    "                                 retriever=milvus.as_retriever(),\n",
    "                                 chain_type='stuff',\n",
    "                                 return_source_documents=True,\n",
    "                                 chain_type_kwargs=chain_type_kwargs)\n",
    "result = qa({\"query\": query})"
   ]
  },
  {
   "cell_type": "code",
   "execution_count": 7,
   "metadata": {},
   "outputs": [
    {
     "name": "stdout",
     "output_type": "stream",
     "text": [
      "Query: Warum nutzt die Informatik SAFe?\n",
      "Result: {'query': 'Warum nutzt die Informatik SAFe?', 'result': \"Die Informatik nutzt SAFe, um sich uf neui Betriebsmodelle und Technologie uszrichte. Mit SAFe chöi si agili Methode in neui Arbeitsumgebige iiführe und so ihri Leistige für ihri Chunde optimiere. Es hilft ihne au, ihri Rolle und Verantwortigkeite besser z'plane und z'verwaltige. D'Ziel isch, qualitativ hochstehendi Leistige so schnell wie möglich z'erbringe.\", 'source_documents': [Document(page_content='Die Dienststelle Informatik stellt sich in verschiedenen Bereichen auf ein sich stark änderndes Umfeld ein. Angetrieben durch die Digitalisierung richtet sie sich nach neuen Betriebsmodellen und Technologien aus. Dies umfasst auch die Auseinandersetzung mit dem Einsatz von agilen Methoden in neuen Arbeitsumgebungen. Um die lean-agile Arbeitsweise zu verankern, macht sich die Dienststelle dem Scaled Agile Framework (SAFe) als Modell für die Organisation zu Nutze. In mehreren Agile Teams, die in einem Agile Release Train organisiert sind, arbeitet die Dienststelle an den künftigen Lösungen für ihre Kundinnen und Kunden. \\nSAFe\\xa0stellt eine Reihe von Unternehmens- und Workflow-Mustern zur Implementierung von agilen Praktiken im gesamten Unternehmen bereit. Die Dienststelle Informatik orientiert sich unter anderem an strukturierten Leitlinien zu Rollen und Zuständigkeiten sowie zur Planung und Verwaltung von Aufgaben, die es ihr ermöglichen, den Nutzen für ihre Kunden laufend zu optimieren. Dabei verfolgt sie das Ziel, qualitativ hochstehende Leistungen so rasch als möglich zu erbringen. Als zentrale Elemente werden in diesem Rahmenkonzept die Abstimmung, Zusammenarbeit und Ausführung über zahlreiche agile Teams hinweg gesehen und gefördert. Im Mittelpunkt stehen dabei drei Themenbereiche: Agile-Softwareentwicklung, Lean-Produktentwicklung und Systemdenkweise. \\nEinen kurzen Überblick über das Framework von SAFe zeigt dieses englischsprachige\\xa0Video\\xa0(ca. 5 Min.).', metadata={'source': './datasets/informatik.lu.ch__Aktuelle_Projekte__SAFe.txt'}), Document(page_content='Die von uns entwickelten und betriebenen Basisinfrastrukturlösungen wie Netzwerke, Storage und Server stellen einen hochverfügbaren Service sicher.\\nMit der angebotenen Workplace-Infrastruktur arbeiten rund 6000 Nutzer flexibel und mobil. Dabei verwalten wir die zentralen Anwendungen für Kollaboration, Geschäftsfallverwaltung, Content Management und ERP.\\nDie über 1000 Fachanwendungen mit ihren Geschäftsprozessen gehören in den Verantwortungsbereich der\\xa0Departemente. Wir lösen die Integration in die Sicherheits- und Systeminfrastruktur und schützen die kantonalen Daten in der privaten und öffentlichen Cloud.\\nWir leisten mit Ideen und praktischen Lösungen einen substantiellen Beitrag zur Digitalisierung des Kantons.\\n Erfolgreiche Innovationen werden in Projekten vorangetrieben, neuerdings auch agil.\\nDie Dienststelle Informatik engagiert sich täglich für ihre vielfältigen Kunden. Jede Dienststelle und jede Schule hat ihre eigenen Systeme und Spezialitäten. In enger Zusammenarbeit mit unseren Kunden analysieren wir unterschiedlichste Anforderungen, erarbeiten passende Lösungen und setzt diese um. Wir sind zuverlässig, qualitätsbewusst und kundennah.', metadata={'source': './datasets/informatik.lu.ch__was_wir_bewegen.txt'}), Document(page_content='Werkzeugkasten mit Digitalisierungswerkzeugen\\nIm Jahr 2016 hat der Regierung die Digitalisierung des Kantons Luzern beschlossen. Dies beinhaltet unter anderem, dass Behördenleistungen der Bevölkerung und den Unternehmen elektronisch angeboten werden und dadurch zeit- und ortsunabhängig in Anspruch genommen werden können.\\nDie Dienststelle Informatik stellt die dazu notwendigen Tools zur Überwindung von Medienbrüchen bereit. Dazu gehören etwa Online-Formulare, die es Bürgerinnen und Bürgern ermöglichen, mit den Verwaltungsbehörden elektronisch in Kontakt zu treten. Durch den direkten Import der Formulardaten in die Datenbanken der Fachapplikationen entfällt das fehleranfällige Abtippen handschriftlicher Eingaben in den Dienststellen.\\nDie Dienststelle Informatik definiert in Zusammenarbeit mit ihren Kunden die Anforderungen an die benötigten Tools und konzipiert deren Einsatz. Einzelne Lösungen werden aufgrund der Spezifikationen beschafft, andere Systeme sind bereits im Einsatz und können ausgebaut werden. So wurde der Enterprise Service Bus, eine BizTalk-Lösung, dahingehend erweitert, dass er den E-Government-Anforderungen entspricht.\\nZahlreiche spannende Basisinfrastrukturprojekte sind bei der Dienststelle Informatik in Erarbeitung oder stehen noch an. \\nParallel zum Bau der Basisinfrastruktur wurden die Kernprozesse in allen Dienststellen analysiert und nach ihrem Digitalisierungspotential bewertet. Sobald das nächste Digitalisierungswerkzeug den Dienststellen zur Verfügung steht, werden in weiteren Kernprozessen unnötige Medienbrüche abgebaut.', metadata={'source': './datasets/informatik.lu.ch__Aktuelle_Projekte__Digitaler_Kanton.txt'}), Document(page_content='Mit der Einführung der Onlineformularlösung musste auf der Web Application Firewall (WAF) eine sichere Authentifizierung realisiert werden. Mit einer SMS als zweiten Sicherheitsfaktor kann heute der Jäger zur Jagdpassbestellung eindeutig und sicher authentifiziert werden. Das erlaubt den Bestellprozess für den Kunden massiv zu vereinfachen, weil die wiederholte Eingabe persönlicher und geschäftsfallbezogener Daten entfällt. \\nDie Authentifizierungslösung wurde im Anschluss durch Fachexperten bei einem Penetration-Test auf ihre Robustheit geprüft. Die Lösung kann nun auch für weitere elektronische Formulare eingesetzt werden.\\nUm die nationalen und kantonalen Vorgaben zum Schutz der Bürger in der Covid-Pandemie umzusetzen, mussten zahlreiche neue Standorte mit IT-Infrastruktur aufgebaut werden. Die DIIN richtete den Kantonalen Führungsstab (KFS) in Nottwil, 3 Drive-In – Testzentren und das Contact-Tracing Zentrum ein. Für die Covid-Impfung wurden 10 mobile Impfzentren und zwei fixe Impfzentren in Luzern und Willisau aufgebaut. Insgesamt wurden über 180 Clients, 250 Monitore, 25 Drucker und 15 Multifunktionsgeräte konfiguriert und installiert.\\nRuopigenplatz 1', metadata={'source': './datasets/informatik.lu.ch__.txt'})]}\n"
     ]
    }
   ],
   "source": [
    "print(f'Query: {query}')\n",
    "print(f'Result: {result}')"
   ]
  }
 ],
 "metadata": {
  "kernelspec": {
   "display_name": "Python 3",
   "language": "python",
   "name": "python3"
  },
  "language_info": {
   "codemirror_mode": {
    "name": "ipython",
    "version": 3
   },
   "file_extension": ".py",
   "mimetype": "text/x-python",
   "name": "python",
   "nbconvert_exporter": "python",
   "pygments_lexer": "ipython3",
   "version": "3.11.4"
  },
  "orig_nbformat": 4
 },
 "nbformat": 4,
 "nbformat_minor": 2
}
