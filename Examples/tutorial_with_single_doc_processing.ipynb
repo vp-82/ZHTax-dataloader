{
 "cells": [
  {
   "cell_type": "code",
   "execution_count": null,
   "metadata": {},
   "outputs": [],
   "source": [
    "from langchain.embeddings.openai import OpenAIEmbeddings\n",
    "from langchain.vectorstores import Milvus\n",
    "from langchain.document_loaders import WebBaseLoader, TextLoader\n",
    "from langchain.text_splitter import CharacterTextSplitter\n",
    "import os\n",
    "import time"
   ]
  },
  {
   "cell_type": "code",
   "execution_count": null,
   "metadata": {},
   "outputs": [],
   "source": [
    "connection_args={\n",
    "        \"uri\": \"https://in03-5052868020ac71b.api.gcp-us-west1.zillizcloud.com\",\n",
    "        \"user\": \"vaclav@pechtor.ch\",\n",
    "        \"token\": \"\",\n",
    "        \"secure\": True\n",
    "    }\n",
    "\n",
    "os.environ[\"OPENAI_API_KEY\"] = ''"
   ]
  },
  {
   "cell_type": "code",
   "execution_count": null,
   "metadata": {},
   "outputs": [],
   "source": [
    "directory = './datasets/'\n",
    "docs = []"
   ]
  },
  {
   "cell_type": "code",
   "execution_count": null,
   "metadata": {},
   "outputs": [],
   "source": [
    "for filename in os.listdir(directory):\n",
    "    filepath = os.path.join(directory, filename)\n",
    "    loader = TextLoader(filepath)\n",
    "    doc = loader.load()\n",
    "    docs.extend(doc)"
   ]
  },
  {
   "cell_type": "code",
   "execution_count": null,
   "metadata": {},
   "outputs": [],
   "source": [
    "text_splitter = CharacterTextSplitter(chunk_size=1024, chunk_overlap=0)\n",
    "docs = text_splitter.split_documents(docs)"
   ]
  },
  {
   "cell_type": "code",
   "execution_count": null,
   "metadata": {},
   "outputs": [],
   "source": [
    "import traceback\n",
    "\n",
    "embeddings = OpenAIEmbeddings()\n",
    "batch_size = 10\n",
    "max_retries = 1  # maximum number of retries\n",
    "\n",
    "for i in range(0, len(docs), batch_size):\n",
    "    doc_batch = docs[i:i+batch_size]\n",
    "    print(f'Processing docs from {i} to {i+batch_size-1}')\n",
    "    \n",
    "    for attempt in range(max_retries):\n",
    "        try:\n",
    "            vector_store = Milvus.from_documents(\n",
    "                doc_batch,  # process a batch\n",
    "                embedding=embeddings,\n",
    "                connection_args=connection_args\n",
    "            )\n",
    "            break  # break the retry loop if processing is successful\n",
    "        except Exception as e:\n",
    "            print(f'Exception occurred while processing batch from {i} to {i+batch_size-1}: {e}')\n",
    "            print(traceback.format_exc())\n",
    "            if attempt < max_retries - 1:  # no need to sleep on the last attempt\n",
    "                time.sleep(1)  # wait for 1 second before retrying\n",
    "            else:\n",
    "                print(f'Switching to single-document processing for batch from {i} to {i+batch_size-1} after {max_retries} attempts.')\n",
    "                for j, doc in enumerate(doc_batch):\n",
    "                    for attempt_doc in range(max_retries):\n",
    "                        try:\n",
    "                            vector_store = Milvus.from_documents(\n",
    "                                [doc],  # process a single document\n",
    "                                embedding=embeddings,\n",
    "                                connection_args=connection_args\n",
    "                            )\n",
    "                            break  # break the retry loop if processing is successful\n",
    "                        except Exception as e:\n",
    "                            print(f'Exception occurred while processing document {i+j}: {e}')\n",
    "                            print(traceback.format_exc())\n",
    "                            if attempt_doc < max_retries - 1:  # no need to sleep on the last attempt\n",
    "                                time.sleep(1)  # wait for 1 second before retrying\n",
    "                            else:\n",
    "                                print(f'Skipping document {i+j} after {max_retries} attempts.')\n",
    "                break\n"
   ]
  },
  {
   "cell_type": "code",
   "execution_count": null,
   "metadata": {},
   "outputs": [],
   "source": [
    "query = \"Wann trifft sich der Kantonsrat nach den Wahlen?\"\n",
    "docs = vector_store.similarity_search(query)\n",
    "\n",
    "print(docs)"
   ]
  },
  {
   "cell_type": "code",
   "execution_count": null,
   "metadata": {},
   "outputs": [],
   "source": [
    "from langchain.chains.qa_with_sources import load_qa_with_sources_chain\n",
    "from langchain.llms import OpenAI\n",
    "\n",
    "chain = load_qa_with_sources_chain(OpenAI(temperature=0), chain_type=\"map_reduce\", return_intermediate_steps=True)\n",
    "query = \"Wann trifft sich der Kantonsrat nach den Wahlen?\"\n",
    "chain({\"input_documents\": docs, \"question\": query}, return_only_outputs=True)"
   ]
  },
  {
   "cell_type": "code",
   "execution_count": null,
   "metadata": {},
   "outputs": [],
   "source": []
  }
 ],
 "metadata": {
  "kernelspec": {
   "display_name": "Python 3",
   "language": "python",
   "name": "python3"
  },
  "language_info": {
   "codemirror_mode": {
    "name": "ipython",
    "version": 3
   },
   "file_extension": ".py",
   "mimetype": "text/x-python",
   "name": "python",
   "nbconvert_exporter": "python",
   "pygments_lexer": "ipython3",
   "version": "3.11.4"
  },
  "orig_nbformat": 4
 },
 "nbformat": 4,
 "nbformat_minor": 2
}
