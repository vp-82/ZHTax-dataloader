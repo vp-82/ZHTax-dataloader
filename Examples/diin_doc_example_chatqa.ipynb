{
 "cells": [
  {
   "cell_type": "code",
   "execution_count": 1,
   "metadata": {},
   "outputs": [],
   "source": [
    "import os\n",
    "import re\n",
    "from pprint import pprint\n",
    "\n",
    "from dotenv import load_dotenv\n",
    "from langchain.chains import ConversationalRetrievalChain\n",
    "from langchain.embeddings.openai import OpenAIEmbeddings\n",
    "from langchain.llms import OpenAI\n",
    "from langchain.chat_models import ChatOpenAI\n",
    "from langchain.memory import ConversationBufferMemory\n",
    "from langchain.prompts import PromptTemplate\n",
    "from langchain.chains import LLMChain\n",
    "from langchain.chains.question_answering import load_qa_chain\n",
    "from langchain.chains.conversational_retrieval.prompts import CONDENSE_QUESTION_PROMPT\n",
    "from langchain.chains.qa_with_sources import load_qa_with_sources_chain\n",
    "from langchain.vectorstores import Milvus\n",
    "from langchain.prompts import PromptTemplate"
   ]
  },
  {
   "cell_type": "code",
   "execution_count": 29,
   "metadata": {},
   "outputs": [],
   "source": [
    "def process_output(output):\n",
    "    # Check if 'SOURCES: \\n' is in the output\n",
    "    if 'QUELLEN:' in output['answer']:\n",
    "        # Split the answer into the main text and the sources\n",
    "        answer, raw_sources = output['answer'].split('QUELLEN:', 1)\n",
    "\n",
    "        # Split the raw sources into a list of sources, and remove any leading or trailing whitespaces\n",
    "        raw_sources_list = [source.strip() for source in raw_sources.split('- ') if source.strip()]\n",
    "\n",
    "        # Process each source to turn it back into a valid URL\n",
    "        sources = []\n",
    "        for raw_source in raw_sources_list:\n",
    "            if raw_source:  # Ignore empty strings\n",
    "                # Remove the prefix and the ending '.txt' and replace '__' with '/'\n",
    "                valid_url = 'https://' + raw_source.split('/')[-1].replace('__', '/').rstrip('.txt\\n')\n",
    "                sources.append(valid_url)\n",
    "    else:\n",
    "        # If there are no sources, return the answer as is and an empty list for sources\n",
    "        answer = output['answer']\n",
    "        sources = []\n",
    "\n",
    "    # Join the sources list into a single string with each source separated by a whitespace\n",
    "    sources = ' '.join(sources)\n",
    "\n",
    "    return answer, sources\n",
    "\n"
   ]
  },
  {
   "cell_type": "code",
   "execution_count": 3,
   "metadata": {},
   "outputs": [],
   "source": [
    "load_dotenv()  # take environment variables from .env.\n",
    "openai_api_key = os.getenv('OPENAI_API_KEY')\n",
    "milvus_api_key = os.getenv('MILVUS_API_KEY')\n",
    "\n",
    "connection_args={\n",
    "        \"uri\": \"https://in03-5052868020ac71b.api.gcp-us-west1.zillizcloud.com\",\n",
    "        \"user\": \"vaclav@pechtor.ch\",\n",
    "        \"token\": milvus_api_key,\n",
    "        \"secure\": True\n",
    "    }"
   ]
  },
  {
   "cell_type": "code",
   "execution_count": 4,
   "metadata": {},
   "outputs": [],
   "source": [
    "embeddings = OpenAIEmbeddings(model=\"text-embedding-ada-002\")\n",
    "milvus = Milvus(\n",
    "    embedding_function=embeddings,\n",
    "    collection_name=\"LuGPT\",\n",
    "    connection_args=connection_args,\n",
    ")\n",
    "chat_history = []"
   ]
  },
  {
   "cell_type": "code",
   "execution_count": 5,
   "metadata": {},
   "outputs": [],
   "source": [
    "qa_prompt = \"\"\"Angesichts der folgenden extrahierten Teile eines langen Dokuments und einer Frage, erstelle eine abschließende Antwort mit Verweisen (\"SOURCES\").\n",
    "Wenn Du die Antwort nicht kennst, sag einfach, dass Du es nicht weißt. Versuche nicht, eine Antwort zu erfinden.\n",
    "Gib IMMER einen \"SOURCES\"-Teil in Deiner Antwort zurück.\n",
    "\n",
    "FRAGE: Welches Landes-/Staatsrecht regelt die Auslegung des Vertrages?\n",
    "=========\n",
    "Content: Dieser Vertrag wird durch englisches Recht geregelt und die Parteien unterwerfen sich der ausschließlichen Gerichtsbarkeit der englischen Gerichte in Bezug auf jeden Streit (vertraglich oder nicht vertraglich) in Bezug auf diesen Vertrag, es sei denn, eine Partei kann sich an jedes Gericht wenden, um eine einstweilige Verfügung oder andere Rechte zum Schutz ihrer geistigen Eigentumsrechte zu beantragen.\n",
    "Source: 28-pl\n",
    "Content: Kein Verzicht. Das Versäumnis oder die Verzögerung bei der Ausübung eines Rechts oder Rechtsmittels aus diesem Vertrag stellt keinen Verzicht auf dieses (oder ein anderes) Recht oder Rechtsmittel dar.\\n\\n11.7 Salvatorische Klausel. Die Ungültigkeit, Rechtswidrigkeit oder Unvollstreckbarkeit einer Bedingung (oder eines Teils einer Bedingung) dieses Vertrages beeinträchtigt nicht das Fortbestehen des Rests der Bedingung (falls vorhanden) und dieses Vertrages.\\n\\n11.8 Keine Agentur. Sofern nicht ausdrücklich anders angegeben, schafft dieser Vertrag keine Agentur, Partnerschaft oder Joint Venture jeglicher Art zwischen den Parteien.\\n\\n11.9 Keine Drittbegünstigten.\n",
    "Source: 30-pl\n",
    "Content: (b) wenn Google glaubt, in gutem Glauben, dass der Vertriebshändler gegen Anti-Korruptionsgesetze (wie in Klausel 8.5 definiert) verstoßen hat oder dass ein solcher Verstoß wahrscheinlich eintreten wird,\n",
    "Source: 4-pl\n",
    "=========\n",
    "ENDGÜLTIGE ANTWORT: Dieser Vertrag wird durch englisches Recht geregelt.\n",
    "SOURCES: 28-pl\n",
    "\n",
    "FRAGE: Was hat der Präsident über Michael Jackson gesagt?\n",
    "=========\n",
    "Content: Frau Sprecherin, Frau Vizepräsidentin, unsere First Lady und der zweite Gentleman. Mitglieder des Kongresses und des Kabinetts. Richter des Obersten Gerichtshofs. Meine amerikanischen Mitbürger. \\n\\nLetztes Jahr hat uns COVID-19 auseinandergebracht. In diesem Jahr sind wir endlich wieder zusammen. \\n\\nHeute Abend treffen wir uns als Demokraten, Republikaner und Unabhängige. Aber vor allem als Amerikaner. \\n\\nMit einer Pflicht zueinander, zum amerikanischen Volk, zur Verfassung. \\n\\nUnd mit der unerschütterlichen Entschlossenheit, dass die Freiheit immer über die Tyrannei siegen wird. \\n\\nVor sechs Tagen versuchte Russlands Wladimir Putin, die Grundlagen der freien Welt zu erschüttern, in der Hoffnung, sie könnte sich seinen bedrohlichen Methoden beugen. Aber er hat sich schwer verkalkuliert. \\n\\nEr dachte, er könnte in die Ukraine einrollen und die Welt würde sich umdrehen. Stattdessen traf er auf eine Mauer der Stärke, die er sich nie vorgestellt hatte. \\n\\nEr traf das ukrainische Volk. \\n\\nVon Präsident Selenskyj bis zu jedem Ukrainer, ihre Furchtlosigkeit, ihr Mut, ihre Entschlossenheit inspiriert die Welt. \\n\\nGruppen von Bürgern, die Panzer mit ihren Körpern blockieren. Jeder, von Studenten bis zu Rentnern, Lehrer, die zu Soldaten wurden, verteidigt ihre Heimat.\n",
    "Source: 0-pl\n",
    "Content: Und wir werden nicht aufhören. \\n\\nWir haben so viel an COVID-19 verloren. Zeit miteinander. Und am schlimmsten, so viel Verlust von Leben. \\n\\nNutzen wir diesen Moment zum Reset. Lasst uns aufhören, COVID-19 als parteipolitische Trennlinie zu sehen und es für das zu erkennen, was es ist: Eine schreckliche Krankheit. \\n\\nLasst uns aufhören, uns als Feinde zu sehen und anfangen, uns als das zu sehen, was wir wirklich sind: Amerikaner. \\n\\nWir können nicht ändern, wie gespalten wir gewesen sind. Aber wir können ändern, wie wir vorangehen - bei COVID-19 und anderen Fragen, die wir gemeinsam angehen müssen. \\n\\nVor kurzem besuchte ich das New Yorker Polizeidepartment Tage nach den Beerdigungen von Officer Wilbert Mora und seinem Partner, Officer Jason Rivera. \\n\\nSie reagierten auf einen 9-1-1 Anruf, als ein Mann sie mit einer gestohlenen Waffe erschoss und tötete. \\n\\nOfficer Mora war 27 Jahre alt. \\n\\nOfficer Rivera war 22. \\n\\nBeide dominikanische Amerikaner, die auf denselben Straßen aufwuchsen, die sie später als Polizisten patrouillierten. \\n\\nIch sprach mit ihren Familien und sagte ihnen, dass wir für ihr Opfer ewig in Schuld stehen und ihre Mission fortsetzen werden, das Vertrauen und die\n",
    "\n",
    " Sicherheit, die jede Gemeinschaft verdient, wiederherzustellen.\n",
    "Source: 24-pl\n",
    "Content: Und ein stolzes ukrainisches Volk, das 30 Jahre Unabhängigkeit gekannt hat, hat wiederholt gezeigt, dass es niemanden tolerieren wird, der versucht, ihr Land rückwärts zu nehmen. \\n\\nAn alle Amerikaner, ich werde ehrlich zu euch sein, wie ich es immer versprochen habe. Ein russischer Diktator, der ein fremdes Land überfällt, hat Kosten auf der ganzen Welt. \\n\\nUnd ich ergreife robuste Maßnahmen, um sicherzustellen, dass der Schmerz unserer Sanktionen auf die russische Wirtschaft abzielt. Und ich werde jedes Mittel in unserer Macht stehende nutzen, um amerikanische Unternehmen und Verbraucher zu schützen. \\n\\nHeute Abend kann ich ankündigen, dass die Vereinigten Staaten mit 30 anderen Ländern zusammengearbeitet haben, um 60 Millionen Barrel Öl aus Reserven auf der ganzen Welt freizugeben. \\n\\nAmerika wird diese Bemühungen anführen und 30 Millionen Barrel aus unserer eigenen strategischen Erdölreserve freigeben. Und wir sind bereit, bei Bedarf mehr zu tun, vereint mit unseren Verbündeten. \\n\\nDiese Schritte werden helfen, die Benzinpreise hier zu Hause abzuschwächen. Und ich weiß, die Nachrichten darüber, was passiert, können beunruhigend erscheinen. \\n\\nAber ich möchte, dass ihr wisst, dass wir okay sein werden.\n",
    "Source: 5-pl\n",
    "Content: Mehr Unterstützung für Patienten und Familien. \\n\\nUm dorthin zu gelangen, fordere ich den Kongress auf, ARPA-H, die Advanced Research Projects Agency for Health, zu finanzieren. \\n\\nEs basiert auf DARPA - dem Verteidigungsministerium-Projekt, das zum Internet, GPS und so vielem mehr führte. \\n\\nARPA-H wird einen einzigen Zweck haben - Durchbrüche bei Krebs, Alzheimer, Diabetes und mehr zu erzielen. \\n\\nEine Einheitsagenda für die Nation. \\n\\nWir können das schaffen. \\n\\nMeine amerikanischen Mitbürger - heute Abend haben wir uns in einem heiligen Raum versammelt - der Zitadelle unserer Demokratie. \\n\\nIn diesem Kapitol haben Generation um Generation Amerikaner große Fragen inmitten großer Konflikte diskutiert und Großes vollbracht. \\n\\nWir haben für die Freiheit gekämpft, die Freiheit erweitert, Totalitarismus und Terror besiegt. \\n\\nUnd die stärkste, freieste und wohlhabendste Nation aufgebaut, die die Welt je gekannt hat. \\n\\nJetzt ist die Stunde. \\n\\nUnser Moment der Verantwortung. \\n\\nUnser Test der Entschlossenheit und des Gewissens, der Geschichte selbst. \\n\\nIn diesem Moment wird unser Charakter geformt. Unser Zweck ist gefunden. Unsere Zukunft wird geschmiedet. \\n\\nNun, ich kenne diese Nation.\n",
    "Source: 34-pl\n",
    "=========\n",
    "ENDGÜLTIGE ANTWORT: Der Präsident hat Michael Jackson nicht erwähnt.\n",
    "QUELLEN:\n",
    "\n",
    "FRAGE: {question}\n",
    "=========\n",
    "{summaries}\n",
    "=========\n",
    "ENDGÜLTIGE ANTWORT:\"\"\"\n",
    "\n",
    "question_gen_prompt = \"\"\"Angesichts der folgenden Konversation und einer anschliessenden Frage, formulieren Sie die Nachfrage so um, dass sie als eigenstaendige Frage gestellt werden kann.\n",
    "    Alle Fragen und Antworten muessen auf Deutsch sein.\n",
    "    Wenn Du die Antwort nicht kennst, sage einfach, dass Du es nicht weisst, versuche nicht, eine Antwort zu erfinden.\n",
    "\n",
    "    Chatverlauf:\n",
    "    {chat_history}\n",
    "    Nachfrage: {question}\n",
    "    Alle Fragen und Antworten muessen auf Deutsch sein.\n",
    "    Eigenständige Frage:\n",
    "    \"\"\"\n",
    "\n",
    "GERMAN_QA_PROMPT = PromptTemplate(\n",
    "    template=qa_prompt, input_variables=[\"summaries\", \"question\"]\n",
    ")\n",
    "\n",
    "GERMAN_QG_PROMPT = PromptTemplate(\n",
    "    template=question_gen_prompt, input_variables=[\"chat_history\", \"question\"])\n",
    "\n",
    "GERMAN_DOC_PROMPT = PromptTemplate(\n",
    "    template=\"Inhalt: {page_content}\\nQuelle: {source}\",\n",
    "    input_variables=[\"page_content\", \"source\"])"
   ]
  },
  {
   "cell_type": "code",
   "execution_count": 6,
   "metadata": {},
   "outputs": [],
   "source": [
    "llm = ChatOpenAI(temperature=0, model_name='gpt-3.5-turbo-16k-0613')\n",
    "question_generator = LLMChain(llm=llm,prompt=GERMAN_QG_PROMPT)\n",
    "doc_chain = load_qa_with_sources_chain(llm,\n",
    "                                      chain_type=\"stuff\",\n",
    "                                      prompt=GERMAN_QA_PROMPT,\n",
    "                                      document_prompt=GERMAN_DOC_PROMPT\n",
    "                                       )"
   ]
  },
  {
   "cell_type": "code",
   "execution_count": 7,
   "metadata": {},
   "outputs": [],
   "source": [
    "chain = ConversationalRetrievalChain(\n",
    "    retriever=milvus.as_retriever(),\n",
    "    question_generator=question_generator,\n",
    "    combine_docs_chain=doc_chain,\n",
    "    return_generated_question=True\n",
    ")"
   ]
  },
  {
   "cell_type": "code",
   "execution_count": 8,
   "metadata": {},
   "outputs": [],
   "source": [
    "chat_history = []"
   ]
  },
  {
   "cell_type": "code",
   "execution_count": 9,
   "metadata": {},
   "outputs": [],
   "source": [
    "query1 = \"Was macht die Dienststelle Informatik\""
   ]
  },
  {
   "cell_type": "code",
   "execution_count": 10,
   "metadata": {},
   "outputs": [],
   "source": [
    "result1 = chain({\"question\": query1, \"chat_history\": chat_history})"
   ]
  },
  {
   "cell_type": "code",
   "execution_count": 32,
   "metadata": {},
   "outputs": [
    {
     "name": "stdout",
     "output_type": "stream",
     "text": [
      "('Was macht die Dienststelle Informatik Die Dienststelle Informatik ist '\n",
      " 'verantwortlich für die Informatik-Basisinfrastrukturen der kantonalen '\n",
      " 'Verwaltung und erbringt Dienstleistungen im Bereich Informatik- und '\n",
      " 'Beschaffungswesen für die Luzerner Departemente. Sie betreibt das kantonale '\n",
      " 'Rechenzentrum und ist für den Aufbau und Betrieb des kantonalen '\n",
      " 'Kommunikationsnetzes LUnet zuständig. Sie stellt auch Tools zur Verfügung, '\n",
      " 'um Medienbrüche zu überwinden und die Digitalisierung von Behördenleistungen '\n",
      " 'zu ermöglichen. Die Dienststelle Informatik berät und unterstützt die '\n",
      " 'Departementsleitung und ist für die Gesamtinformatik des Gesundheits- und '\n",
      " 'Sozialdepartements verantwortlich. Sie entwickelt und betreibt '\n",
      " 'Basisinfrastrukturlösungen wie Netzwerke, Storage und Server und bietet eine '\n",
      " 'Workplace-Infrastruktur für rund 6000 Nutzer an. Sie integriert '\n",
      " 'Fachanwendungen in die Sicherheits- und Systeminfrastruktur und schützt die '\n",
      " 'kantonalen Daten in der privaten und öffentlichen Cloud. Die Dienststelle '\n",
      " 'Informatik arbeitet eng mit ihren Kunden zusammen, um deren Anforderungen zu '\n",
      " 'analysieren und passende Lösungen zu entwickeln und umzusetzen.\\n'\n",
      " ' https://www.lu.ch/verwaltung/FD/fd_dienststellen/informatik_lu_ch '\n",
      " 'https://informatik.lu.ch/Aktuelle_Projekte/Digitaler_Kanton '\n",
      " 'https://www.lu.ch/verwaltung/GSD/gsd_dienststellen/gsd_departementssekretariat/gsd_organisation_und_informatik '\n",
      " 'https://informatik.lu.ch/was_wir_bewegen')\n"
     ]
    }
   ],
   "source": [
    "antwort1, quellen1 = process_output(result1)\n",
    "antwort_quellen_1 = \" \".join([query1, antwort1, quellen1])\n",
    "pprint(antwort_quellen_1)\n"
   ]
  },
  {
   "cell_type": "code",
   "execution_count": 20,
   "metadata": {},
   "outputs": [],
   "source": [
    "chat_history.extend([(query1, antwort_quellen_1)])"
   ]
  },
  {
   "cell_type": "code",
   "execution_count": 21,
   "metadata": {},
   "outputs": [],
   "source": [
    "query2 = \"Welche Projekte macht sie?\"\n",
    "resul2 = chain({\"question\": query2, \"chat_history\": chat_history})"
   ]
  },
  {
   "cell_type": "code",
   "execution_count": 22,
   "metadata": {},
   "outputs": [
    {
     "name": "stdout",
     "output_type": "stream",
     "text": [
      "('Die Dienststelle Informatik führt derzeit verschiedene Projekte zur '\n",
      " 'Digitalisierung des Kantons durch, darunter die Bereitstellung von Tools zur '\n",
      " 'Überwindung von Medienbrüchen, die Entwicklung von '\n",
      " 'Basisinfrastrukturlösungen wie Netzwerken, Storage und Servern, die '\n",
      " 'Verwaltung von zentralen Anwendungen für Kollaboration, '\n",
      " 'Geschäftsfallverwaltung, Content Management und ERP, die Integration in die '\n",
      " 'Sicherheits- und Systeminfrastruktur sowie den Schutz kantonaler Daten in '\n",
      " 'privaten und öffentlichen Clouds. Sie arbeiten auch an der Digitalisierung '\n",
      " 'der Kernprozesse in allen Dienststellen und der Reduzierung unnötiger '\n",
      " 'Medienbrüche. Weitere Projekte zur Basisinfrastruktur und zur Unterstützung '\n",
      " 'der Kunden sind in Arbeit.\\n'\n",
      " ' '\n",
      " 'https:///var/folders/rp/zgs4ngzd1wg1g91fz8cyj3yw0000gn/T/tmp61oqt0nb/informatik.lu.ch/was_wir_bewegen.txt, '\n",
      " '/var/folders/rp/zgs4ngzd1wg1g91fz8cyj3yw0000gn/T/tmpb8az3o38/informatik.lu.ch/Aktuelle_Projekte/Digitaler_Kanton')\n"
     ]
    }
   ],
   "source": [
    "antwort2, quellen2 = process_output(resul2)\n",
    "antwort_quellen_2 = \" \".join([antwort2, quellen2])\n",
    "pprint(antwort_quellen_2)"
   ]
  },
  {
   "cell_type": "code",
   "execution_count": 23,
   "metadata": {},
   "outputs": [],
   "source": [
    "chat_history.extend([(query2, antwort_quellen_2)])"
   ]
  },
  {
   "cell_type": "code",
   "execution_count": 24,
   "metadata": {},
   "outputs": [],
   "source": [
    "query3 = \"Wer ist der Dienststellenleiter?\"\n",
    "resul3 = chain({\"question\": query3, \"chat_history\": chat_history})"
   ]
  },
  {
   "cell_type": "code",
   "execution_count": 25,
   "metadata": {},
   "outputs": [
    {
     "name": "stdout",
     "output_type": "stream",
     "text": [
      "('Der Leiter der Dienststelle Informatik ist Andreas Raeber.\\n'\n",
      " ' '\n",
      " 'https:///var/folders/rp/zgs4ngzd1wg1g91fz8cyj3yw0000gn/T/tmpp9zzy7yv/www.lu.ch/verwaltung/staatskanzlei/Amtliche_Publikationen/Mitteilungen/Mitteilungen_archiv/Medienmitteilung_Details?id=12394&year=2014&month=12&content=')\n"
     ]
    }
   ],
   "source": [
    "antwort3, quellen3 = process_output(resul3)\n",
    "antwort_quellen_3 = \" \".join([antwort3, quellen3])\n",
    "pprint(antwort_quellen_3)"
   ]
  },
  {
   "cell_type": "code",
   "execution_count": 26,
   "metadata": {},
   "outputs": [
    {
     "name": "stdout",
     "output_type": "stream",
     "text": [
      "{'answer': 'Der Leiter der Dienststelle Informatik ist Andreas Raeber.\\n'\n",
      "           'QUELLEN: '\n",
      "           '/var/folders/rp/zgs4ngzd1wg1g91fz8cyj3yw0000gn/T/tmpp9zzy7yv/www.lu.ch__verwaltung__staatskanzlei__Amtliche_Publikationen__Mitteilungen__Mitteilungen_archiv__Medienmitteilung_Details?id=12394&year=2014&month=12&content=.txt',\n",
      " 'chat_history': [('Was macht die Dienststelle Informatik',\n",
      "                   'Was macht die Dienststelle Informatik Die Dienststelle '\n",
      "                   'Informatik ist verantwortlich für die '\n",
      "                   'Informatik-Basisinfrastrukturen der kantonalen Verwaltung '\n",
      "                   'und erbringt Dienstleistungen im Bereich Informatik- und '\n",
      "                   'Beschaffungswesen für die Luzerner Departemente. Sie '\n",
      "                   'betreibt das kantonale Rechenzentrum und ist für den '\n",
      "                   'Aufbau und Betrieb des kantonalen Kommunikationsnetzes '\n",
      "                   'LUnet zuständig. Sie stellt auch Tools zur Verfügung, um '\n",
      "                   'Medienbrüche zu überwinden und die Digitalisierung von '\n",
      "                   'Behördenleistungen zu ermöglichen. Die Dienststelle '\n",
      "                   'Informatik berät und unterstützt die Departementsleitung '\n",
      "                   'und ist für die Gesamtinformatik des Gesundheits- und '\n",
      "                   'Sozialdepartements verantwortlich. Sie entwickelt und '\n",
      "                   'betreibt Basisinfrastrukturlösungen wie Netzwerke, Storage '\n",
      "                   'und Server und bietet eine Workplace-Infrastruktur für '\n",
      "                   'rund 6000 Nutzer an. Sie integriert Fachanwendungen in die '\n",
      "                   'Sicherheits- und Systeminfrastruktur und schützt die '\n",
      "                   'kantonalen Daten in der privaten und öffentlichen Cloud. '\n",
      "                   'Die Dienststelle Informatik arbeitet eng mit ihren Kunden '\n",
      "                   'zusammen, um deren Anforderungen zu analysieren und '\n",
      "                   'passende Lösungen zu entwickeln und umzusetzen.\\n'),\n",
      "                  ('Welche Projekte macht sie?',\n",
      "                   'Die Dienststelle Informatik führt derzeit verschiedene '\n",
      "                   'Projekte zur Digitalisierung des Kantons durch, darunter '\n",
      "                   'die Bereitstellung von Tools zur Überwindung von '\n",
      "                   'Medienbrüchen, die Entwicklung von '\n",
      "                   'Basisinfrastrukturlösungen wie Netzwerken, Storage und '\n",
      "                   'Servern, die Verwaltung von zentralen Anwendungen für '\n",
      "                   'Kollaboration, Geschäftsfallverwaltung, Content Management '\n",
      "                   'und ERP, die Integration in die Sicherheits- und '\n",
      "                   'Systeminfrastruktur sowie den Schutz kantonaler Daten in '\n",
      "                   'privaten und öffentlichen Clouds. Sie arbeiten auch an der '\n",
      "                   'Digitalisierung der Kernprozesse in allen Dienststellen '\n",
      "                   'und der Reduzierung unnötiger Medienbrüche. Weitere '\n",
      "                   'Projekte zur Basisinfrastruktur und zur Unterstützung der '\n",
      "                   'Kunden sind in Arbeit.\\n'\n",
      "                   ' '\n",
      "                   'https:///var/folders/rp/zgs4ngzd1wg1g91fz8cyj3yw0000gn/T/tmp61oqt0nb/informatik.lu.ch/was_wir_bewegen.txt, '\n",
      "                   '/var/folders/rp/zgs4ngzd1wg1g91fz8cyj3yw0000gn/T/tmpb8az3o38/informatik.lu.ch/Aktuelle_Projekte/Digitaler_Kanton')],\n",
      " 'generated_question': 'Wer ist der Leiter der Dienststelle Informatik?',\n",
      " 'question': 'Wer ist der Dienststellenleiter?'}\n"
     ]
    }
   ],
   "source": [
    "pprint(resul3)"
   ]
  },
  {
   "cell_type": "code",
   "execution_count": null,
   "metadata": {},
   "outputs": [],
   "source": []
  }
 ],
 "metadata": {
  "kernelspec": {
   "display_name": "Python 3",
   "language": "python",
   "name": "python3"
  },
  "language_info": {
   "codemirror_mode": {
    "name": "ipython",
    "version": 3
   },
   "file_extension": ".py",
   "mimetype": "text/x-python",
   "name": "python",
   "nbconvert_exporter": "python",
   "pygments_lexer": "ipython3",
   "version": "3.11.4"
  },
  "orig_nbformat": 4
 },
 "nbformat": 4,
 "nbformat_minor": 2
}
