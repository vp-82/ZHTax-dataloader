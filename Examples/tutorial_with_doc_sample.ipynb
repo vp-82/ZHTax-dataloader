{
 "cells": [
  {
   "cell_type": "code",
   "execution_count": 11,
   "metadata": {},
   "outputs": [],
   "source": [
    "from langchain.embeddings.openai import OpenAIEmbeddings\n",
    "from langchain.vectorstores import Milvus\n",
    "from langchain.document_loaders import TextLoader\n",
    "from langchain.text_splitter import CharacterTextSplitter\n",
    "import os\n",
    "import ipywidgets as widgets\n",
    "from IPython.display import display\n",
    "from dotenv import load_dotenv\n",
    "import inspect"
   ]
  },
  {
   "cell_type": "code",
   "execution_count": 2,
   "metadata": {},
   "outputs": [],
   "source": [
    "load_dotenv()  # take environment variables from .env.\n",
    "openai_api_key = os.getenv('OPENAI_API_KEY')\n",
    "milvus_api_key = os.getenv('MILVUS_API_KEY')\n",
    "\n",
    "connection_args={\n",
    "        \"uri\": \"https://in03-5052868020ac71b.api.gcp-us-west1.zillizcloud.com\",\n",
    "        \"user\": \"vaclav@pechtor.ch\",\n",
    "        \"token\": milvus_api_key,\n",
    "        \"secure\": True\n",
    "    }\n"
   ]
  },
  {
   "cell_type": "code",
   "execution_count": 4,
   "metadata": {},
   "outputs": [],
   "source": [
    "directory = './datasets/'\n",
    "docs = []"
   ]
  },
  {
   "cell_type": "code",
   "execution_count": 5,
   "metadata": {},
   "outputs": [],
   "source": [
    "for filename in os.listdir(directory):\n",
    "    filepath = os.path.join(directory, filename)\n",
    "    loader = TextLoader(filepath)\n",
    "    doc = loader.load()\n",
    "    docs.extend(doc)"
   ]
  },
  {
   "cell_type": "code",
   "execution_count": 6,
   "metadata": {},
   "outputs": [
    {
     "name": "stderr",
     "output_type": "stream",
     "text": [
      "Created a chunk of size 1162, which is longer than the specified 1024\n",
      "Created a chunk of size 1239, which is longer than the specified 1024\n",
      "Created a chunk of size 1081, which is longer than the specified 1024\n",
      "Created a chunk of size 1078, which is longer than the specified 1024\n",
      "Created a chunk of size 1173, which is longer than the specified 1024\n",
      "Created a chunk of size 3424, which is longer than the specified 1024\n",
      "Created a chunk of size 3257, which is longer than the specified 1024\n",
      "Created a chunk of size 1985, which is longer than the specified 1024\n",
      "Created a chunk of size 2477, which is longer than the specified 1024\n",
      "Created a chunk of size 1078, which is longer than the specified 1024\n",
      "Created a chunk of size 1173, which is longer than the specified 1024\n"
     ]
    }
   ],
   "source": [
    "text_splitter = CharacterTextSplitter(chunk_size=1024, chunk_overlap=0)\n",
    "docs = text_splitter.split_documents(docs)"
   ]
  },
  {
   "cell_type": "code",
   "execution_count": 16,
   "metadata": {},
   "outputs": [
    {
     "name": "stdout",
     "output_type": "stream",
     "text": [
      "/Users/vaclavpechtor/Code/home_projects/LuGPT/env/lib/python3.11/site-packages/langchain/vectorstores/milvus.py\n"
     ]
    }
   ],
   "source": [
    "print(inspect.getfile(Milvus.__init__))"
   ]
  },
  {
   "cell_type": "code",
   "execution_count": 18,
   "metadata": {},
   "outputs": [],
   "source": [
    "embeddings = OpenAIEmbeddings()\n",
    "\n",
    "vector_store = Milvus.from_documents(\n",
    "    docs,\n",
    "    embedding=embeddings,\n",
    "    connection_args=connection_args,\n",
    "    collection_name='Simple_DIIN_QA'\n",
    ")"
   ]
  },
  {
   "cell_type": "code",
   "execution_count": 19,
   "metadata": {},
   "outputs": [
    {
     "data": {
      "application/vnd.jupyter.widget-view+json": {
       "model_id": "a1f662e95a1c4c448d8982a2b35ca8a6",
       "version_major": 2,
       "version_minor": 0
      },
      "text/plain": [
       "Text(value='')"
      ]
     },
     "metadata": {},
     "output_type": "display_data"
    }
   ],
   "source": [
    "# Create text widget for input\n",
    "input_text = widgets.Text()\n",
    "\n",
    "# Create a global variable to hold the input\n",
    "query = \"\"\n",
    "\n",
    "# Create function to update the query variable\n",
    "def update_query(change):\n",
    "    global query\n",
    "    query = change.new\n",
    "\n",
    "# Tell the text widget to call update_query() function when its value changes\n",
    "input_text.observe(update_query, 'value')\n",
    "\n",
    "# Display the text widget\n",
    "display(input_text)"
   ]
  },
  {
   "cell_type": "code",
   "execution_count": 28,
   "metadata": {},
   "outputs": [
    {
     "name": "stdout",
     "output_type": "stream",
     "text": [
      "Query: Welche Projekte gibt es in der Informatik?\n",
      "[Document(page_content='Folgende ICT-Berufe können bei uns gelernt werden:\\nDie Digitalisierung erfasst alle Lebens- und Arbeitsbereiche der heutigen Gesellschaft. Informations- und Kommunikationstechnologien (ICT) leisten dabei einen unabdingbaren Beitrag, heutige und künftige Herausforderungen der Wirtschaft, Umwelt und Gesellschaft zu meistern. Als ICT-Fachfrau / ICT-Fachmann bist du DER Profi, wenn es um den vielfältigen und optimalen Einsatz verschiedenster ICT-Mittel geht.\\nInformatiker/-innen EFZ mit Schwerpunkt Systemtechnik arbeiten vor allem in den Bereichen Planung, Installation, Anwendungen sowie im Betrieb und Wartung von Informatiknetzwerken. Ausserdem befassen sie sich mit Hard- und Software von vernetzten Anlangen, automatisieren Informatikprozesse und überwachen Systeme und Server, damit alles reibungslos abläuft.\\nDie vierjährige berufliche Grundbildung umfasst eine Allgemeinbildung, die einer beruflichen KV-Grundbildung ähnlich ist. Zudem sorgt die weitere Vertiefung in den Bereichen Informatik, Multimediatechnik und Gestaltung für einen vielseitigen und gefragten Beruf. Unsere Mediamatik-Lernenden arbeiten in der Administration und unterstützen die Dienststelle Informatik in den Bereichen Betriebswirtschaft und Organisation.', metadata={'source': './datasets/informatik.lu.ch__Job__Informatiklehre.txt'}), Document(page_content='Die von uns entwickelten und betriebenen Basisinfrastrukturlösungen wie Netzwerke, Storage und Server stellen einen hochverfügbaren Service sicher.\\nMit der angebotenen Workplace-Infrastruktur arbeiten rund 6000 Nutzer flexibel und mobil. Dabei verwalten wir die zentralen Anwendungen für Kollaboration, Geschäftsfallverwaltung, Content Management und ERP.\\nDie über 1000 Fachanwendungen mit ihren Geschäftsprozessen gehören in den Verantwortungsbereich der\\xa0Departemente. Wir lösen die Integration in die Sicherheits- und Systeminfrastruktur und schützen die kantonalen Daten in der privaten und öffentlichen Cloud.\\nWir leisten mit Ideen und praktischen Lösungen einen substantiellen Beitrag zur Digitalisierung des Kantons.\\n Erfolgreiche Innovationen werden in Projekten vorangetrieben, neuerdings auch agil.\\nDie Dienststelle Informatik engagiert sich täglich für ihre vielfältigen Kunden. Jede Dienststelle und jede Schule hat ihre eigenen Systeme und Spezialitäten. In enger Zusammenarbeit mit unseren Kunden analysieren wir unterschiedlichste Anforderungen, erarbeiten passende Lösungen und setzt diese um. Wir sind zuverlässig, qualitätsbewusst und kundennah.', metadata={'source': './datasets/informatik.lu.ch__was_wir_bewegen.txt'}), Document(page_content='Werkzeugkasten mit Digitalisierungswerkzeugen\\nIm Jahr 2016 hat der Regierung die Digitalisierung des Kantons Luzern beschlossen. Dies beinhaltet unter anderem, dass Behördenleistungen der Bevölkerung und den Unternehmen elektronisch angeboten werden und dadurch zeit- und ortsunabhängig in Anspruch genommen werden können.\\nDie Dienststelle Informatik stellt die dazu notwendigen Tools zur Überwindung von Medienbrüchen bereit. Dazu gehören etwa Online-Formulare, die es Bürgerinnen und Bürgern ermöglichen, mit den Verwaltungsbehörden elektronisch in Kontakt zu treten. Durch den direkten Import der Formulardaten in die Datenbanken der Fachapplikationen entfällt das fehleranfällige Abtippen handschriftlicher Eingaben in den Dienststellen.\\nDie Dienststelle Informatik definiert in Zusammenarbeit mit ihren Kunden die Anforderungen an die benötigten Tools und konzipiert deren Einsatz. Einzelne Lösungen werden aufgrund der Spezifikationen beschafft, andere Systeme sind bereits im Einsatz und können ausgebaut werden. So wurde der Enterprise Service Bus, eine BizTalk-Lösung, dahingehend erweitert, dass er den E-Government-Anforderungen entspricht.\\nZahlreiche spannende Basisinfrastrukturprojekte sind bei der Dienststelle Informatik in Erarbeitung oder stehen noch an. \\nParallel zum Bau der Basisinfrastruktur wurden die Kernprozesse in allen Dienststellen analysiert und nach ihrem Digitalisierungspotential bewertet. Sobald das nächste Digitalisierungswerkzeug den Dienststellen zur Verfügung steht, werden in weiteren Kernprozessen unnötige Medienbrüche abgebaut.', metadata={'source': './datasets/informatik.lu.ch__Aktuelle_Projekte__Digitaler_Kanton.txt'}), Document(page_content='Die Digitalisierung ist keinem kurzen oder längeren Trend unterworfen. Sie ist ein fortlaufender Prozess, der unseren Alltag beeinflusst. Abläufe werden einfacher, effizienter und schneller.\\xa0\\nDas Projekt «integrierte Kommunikations- und Kollaborationslösung», kurz UCC, wird die bestehende Telefonanlage in der kantonalen Verwaltung ablösen. Die dabei eingesetzte Software Skype fasst verschiedene Kommunikationsmöglichkeiten zusammen. Die bisherigen Möglichkeiten der Kommunikation bleiben bestehen. Skype eröffnet aber zusätzliche Varianten an Kommunikationsformen wie etwa die Chat-Funktion oder die Möglichkeit von Videokonferenzen.', metadata={'source': './datasets/informatik.lu.ch__.txt'})]\n"
     ]
    }
   ],
   "source": [
    "# query = \"Was ist SAFe?\"\n",
    "print(f\"Query: {query}\")\n",
    "docs = vector_store.similarity_search(query)\n",
    "\n",
    "print(docs)"
   ]
  },
  {
   "cell_type": "code",
   "execution_count": 29,
   "metadata": {},
   "outputs": [],
   "source": [
    "from langchain.chains.qa_with_sources import load_qa_with_sources_chain\n",
    "from langchain.llms import OpenAI\n",
    "\n",
    "chain = load_qa_with_sources_chain(OpenAI(temperature=0), chain_type=\"stuff\")\n",
    "# query = \"Was ist SAFe?\"\n",
    "openai_response = chain({\"input_documents\": docs, \"question\": query}, return_only_outputs=True)"
   ]
  },
  {
   "cell_type": "code",
   "execution_count": 30,
   "metadata": {},
   "outputs": [],
   "source": [
    "text, source = openai_response['output_text'].split('\\n')\n",
    "sources = source.split(',')\n",
    "source_url = next(iter(sources), ' No URL found').replace('./datasets/', 'https://').replace('SOURCES:', '').replace('.txt', '').replace('__', '/').strip().replace(\"'\", \"\")\n"
   ]
  },
  {
   "cell_type": "code",
   "execution_count": 31,
   "metadata": {},
   "outputs": [
    {
     "name": "stdout",
     "output_type": "stream",
     "text": [
      "Query: Welche Projekte gibt es in der Informatik?\n",
      "Result:  Es gibt verschiedene Projekte in der Informatik, wie z.B. Planung, Installation, Anwendungen, Betrieb und Wartung von Informatiknetzwerken, Administration und Unterstützung der Dienststelle Informatik in den Bereichen Betriebswirtschaft und Organisation, Integration in die Sicherheits- und Systeminfrastruktur, Schutz der kantonalen Daten in der privaten und öffentlichen Cloud, Werkzeugkasten mit Digitalisierungswerkzeugen, integrierte Kommunikations- und Kollaborationslösung.\n",
      "Found in: https://informatik.lu.ch/Job/Informatiklehre\n"
     ]
    }
   ],
   "source": [
    "print(f'Query: {query}')\n",
    "print('Result: '+text)\n",
    "print(f'Found in: {source_url}')"
   ]
  },
  {
   "cell_type": "code",
   "execution_count": null,
   "metadata": {},
   "outputs": [],
   "source": []
  }
 ],
 "metadata": {
  "kernelspec": {
   "display_name": "Python 3",
   "language": "python",
   "name": "python3"
  },
  "language_info": {
   "codemirror_mode": {
    "name": "ipython",
    "version": 3
   },
   "file_extension": ".py",
   "mimetype": "text/x-python",
   "name": "python",
   "nbconvert_exporter": "python",
   "pygments_lexer": "ipython3",
   "version": "3.11.4"
  },
  "orig_nbformat": 4
 },
 "nbformat": 4,
 "nbformat_minor": 2
}
