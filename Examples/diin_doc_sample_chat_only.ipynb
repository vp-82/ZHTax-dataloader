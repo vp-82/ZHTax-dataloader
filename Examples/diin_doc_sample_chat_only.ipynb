{
 "cells": [
  {
   "cell_type": "code",
   "execution_count": 1,
   "metadata": {},
   "outputs": [],
   "source": [
    "from langchain.embeddings.openai import OpenAIEmbeddings\n",
    "from langchain.vectorstores import Milvus\n",
    "from langchain.document_loaders import TextLoader\n",
    "from langchain.text_splitter import CharacterTextSplitter\n",
    "import os\n",
    "import ipywidgets as widgets\n",
    "from IPython.display import display\n",
    "from dotenv import load_dotenv\n",
    "from pprint import pprint"
   ]
  },
  {
   "cell_type": "code",
   "execution_count": 2,
   "metadata": {},
   "outputs": [],
   "source": [
    "load_dotenv()  # take environment variables from .env.\n",
    "openai_api_key = os.getenv('OPENAI_API_KEY')\n",
    "milvus_api_key = os.getenv('MILVUS_API_KEY')\n",
    "\n",
    "connection_args={\n",
    "        \"uri\": \"https://in03-5052868020ac71b.api.gcp-us-west1.zillizcloud.com\",\n",
    "        \"user\": \"vaclav@pechtor.ch\",\n",
    "        \"token\": milvus_api_key,\n",
    "        \"secure\": True\n",
    "    }\n"
   ]
  },
  {
   "cell_type": "code",
   "execution_count": 17,
   "metadata": {},
   "outputs": [],
   "source": [
    "import os\n",
    "import re\n",
    "\n",
    "def transform_source_to_url(source_value: str) -> str:\n",
    "    \"\"\"\n",
    "    Transforms a source file path into a valid URL.\n",
    "    \n",
    "    Args:\n",
    "        source_value: A string representing the source file path.\n",
    "\n",
    "    Returns:\n",
    "        A string representing the transformed URL.\n",
    "    \"\"\"\n",
    "    \n",
    "    # Use regular expression to find the start of the URL in the string\n",
    "    match = re.search(r'([a-z]+\\.[a-z]+\\.[a-z]+)', source_value)\n",
    "    if match:\n",
    "        url_start_index = match.start()\n",
    "    else:\n",
    "        raise ValueError(\"Cannot find a URL in the source value.\")\n",
    "    \n",
    "    # Extract the part of the string that corresponds to the URL\n",
    "    url_part = source_value[url_start_index:]\n",
    "    \n",
    "    # Replace '__' with '/'\n",
    "    url_part = url_part.replace(\"__\", \"/\")\n",
    "    \n",
    "    # Remove the '.txt' extension\n",
    "    url_part = os.path.splitext(url_part)[0]\n",
    "    \n",
    "    # Add the base URL to the start\n",
    "    final_url = \"https://\" + url_part\n",
    "    \n",
    "    return final_url\n"
   ]
  },
  {
   "cell_type": "code",
   "execution_count": 4,
   "metadata": {},
   "outputs": [],
   "source": [
    "embeddings = OpenAIEmbeddings()\n",
    "\n",
    "milvus = Milvus(embedding_function=embeddings, collection_name='LuGPT', connection_args=connection_args)"
   ]
  },
  {
   "cell_type": "code",
   "execution_count": 38,
   "metadata": {},
   "outputs": [
    {
     "name": "stdout",
     "output_type": "stream",
     "text": [
      "Query: Welche Projekte macht die Dienststelle Informatik?\n",
      "[Document(page_content='Sie haben Ideen und Anforderungen. Sie wollen klare Lösungen von einem kompetenten Partner. Sie verlangen die zügige Digitalisierung Ihrer Geschäftsprozesse. Die von uns entwickelten und betriebenen Basisinfrastrukturlösungen wie Netzwerke, Storage und Server stellen einen hochverfügbaren Service sicher. Mit der angebotenen Workplace-Infrastruktur arbeiten rund 6000 Nutzer flexibel und mobil. Dabei verwalten wir die zentralen Anwendungen für Kollaboration, Geschäftsfallverwaltung, Content Management und ERP. Die über 1000 Fachanwendungen mit ihren Geschäftsprozessen gehören in den Verantwortungsbereich der\\xa0Departemente. Wir lösen die Integration in die Sicherheits- und Systeminfrastruktur und schützen die kantonalen Daten in der privaten und öffentlichen Cloud. Wir leisten mit Ideen und praktischen Lösungen einen substantiellen Beitrag zur Digitalisierung des Kantons. Erfolgreiche Innovationen werden in Projekten vorangetrieben, neuerdings auch agil. Die Dienststelle Informatik engagiert sich täglich für ihre vielfältigen Kunden. Jede Dienststelle und jede Schule hat ihre eigenen Systeme und Spezialitäten. In enger Zusammenarbeit mit unseren Kunden analysieren wir unterschiedlichste Anforderungen, erarbeiten passende Lösungen und setzt diese um. Wir sind zuverlässig, qualitätsbewusst und kundennah.', metadata={'source': '/var/folders/rp/zgs4ngzd1wg1g91fz8cyj3yw0000gn/T/tmp61oqt0nb/informatik.lu.ch__was_wir_bewegen.txt'}), Document(page_content='Die Dienststelle Informatik ist die zentrale Informatikstelle der kantonalen Verwaltung und im Auftrag des Regierungsrates verantwortlich für die Informatik-Basisinfrastrukturen. Die Dienststelle Informatik erbringt Dienstleistungen im Bereich Informatik- und Beschaffungswesen für die Luzerner Departemente, deren Dienststellen und Ämter; sie betreibt das kantonale Rechenzentrum und sie ist für den Aufbau und Betrieb des kantonalen Kommunikationsnetzes LUnet mit seinen Diensten besorgt.', metadata={'source': '/var/folders/rp/zgs4ngzd1wg1g91fz8cyj3yw0000gn/T/tmpew6jkdcs/www.lu.ch__verwaltung__FD__fd_dienststellen__informatik_lu_ch.txt'}), Document(page_content='Werkzeugkasten mit Digitalisierungswerkzeugen Im Jahr 2016 hat der Regierung die Digitalisierung des Kantons Luzern beschlossen. Dies beinhaltet unter anderem, dass Behördenleistungen der Bevölkerung und den Unternehmen elektronisch angeboten werden und dadurch zeit- und ortsunabhängig in Anspruch genommen werden können. Die Dienststelle Informatik stellt die dazu notwendigen Tools zur Überwindung von Medienbrüchen bereit. Dazu gehören etwa Online-Formulare, die es Bürgerinnen und Bürgern ermöglichen, mit den Verwaltungsbehörden elektronisch in Kontakt zu treten. Durch den direkten Import der Formulardaten in die Datenbanken der Fachapplikationen entfällt das fehleranfällige Abtippen handschriftlicher Eingaben in den Dienststellen. Die Dienststelle Informatik definiert in Zusammenarbeit mit ihren Kunden die Anforderungen an die benötigten Tools und konzipiert deren Einsatz. Einzelne Lösungen werden aufgrund der Spezifikationen beschafft, andere Systeme sind bereits im Einsatz und können ausgebaut werden. So wurde der Enterprise Service Bus, eine BizTalk-Lösung, dahingehend erweitert, dass er den E-Government-Anforderungen entspricht. Zahlreiche spannende Basisinfrastrukturprojekte sind bei der Dienststelle Informatik in Erarbeitung oder stehen noch an. Parallel zum Bau der Basisinfrastruktur wurden die Kernprozesse in allen Dienststellen analysiert und nach ihrem Digitalisierungspotential bewertet. Sobald das nächste Digitalisierungswerkzeug den Dienststellen zur Verfügung steht, werden in weiteren Kernprozessen unnötige Medienbrüche abgebaut.', metadata={'source': '/var/folders/rp/zgs4ngzd1wg1g91fz8cyj3yw0000gn/T/tmpb8az3o38/informatik.lu.ch__Aktuelle_Projekte__Digitaler_Kanton.txt'}), Document(page_content=\"Die Abteilung «ICT Betrieb & Engineering» stellt den reibungslosen Betrieb der gesamten IT-Infrastruktur sicher. Sie ist verantwortlich für Netzwerke, Storage, Server, Datenbanken, Web, Groupware, Enterprise Service Bus und Clients. Das Planen, Konzipieren und Integrieren von neuen Lösungen obliegt dabei den Engineers. Der ServiceDesk ist die zentrale Anlaufstelle für alle Informatik-Anfragen und -probleme innerhalb der kantonalen Verwaltung. Er betreut 11'000 Kunden und Partner und hilft jährlich 24'000 Anfragen und Tickets zu koordinieren oder zu lösen. Die Abteilung Applikations-Management betreut die Querschnittsanwendungen der kantonalen Verwaltung über deren gesamten Lebenszyklus. Das beinhaltet die Anforderungsanalyse, die Weiterentwicklung und den Support der Anwendungen. Sie unterstützt und berät ihre Kundinnen und Kunden bei der Evaluation, Entwicklung oder Einführung von Geschäftsprozess-Anwendungen und stellt einen stabilen und zuverlässigen Betrieb sicher. Die Abteilung Organisationsentwicklung & Projektmanagement unterstützt die Dienststelle Informatik darin, sich nachhaltig zu entwickeln. Der Fokus liegt dabei auf den kulturellen und strukturellen Rahmenbedingungen, die auf der Grundlage von aktuellen, erprobten Methoden und Werkzeugen laufend optimiert werden. Zusammen mit dem Project Management Office führen interne und externe Projektleiterinnen und Projektleiter IT-Projekte für den Kanton Luzern. Der angegliederte Bereich Grundbildung unterstützt die berufliche und gesellschaftliche Integration junger Menschen, indem er für eine professionelle Ausbildung von Lernenden und Praktikanten sorgt. Die Abteilung IT-Architektur legt die Grundstrukturen der kantonalen IT fest und definiert Regeln, die das dynamische Zusammenspiel aller Komponenten koordinieren. Ihr Aufgabenbereich umfasst Modelle, Bebauungsplanungen, Richtlinien, Standards und Spezifikationen. Dazu zählen unter anderem Infrastruktur (Hardware, Standorte, Netzwerke), Software (Anwendungen), Technologien, Schnittstellen, durch IT unterstützte Funktionen und Prozesse sowie das dazugehörige Architektur-Management. Der CTO verantwortet die technologische Weiterentwicklung der kantonalen IT. Seine Hauptaufgabe besteht darin, neue Technologien auf ihre Eignung hin zu untersuchen und diese in die bestehende IT-Struktur zu integrieren. Die Abteilung Zentrale Dienste umfasst die Bereiche Administration, IT-Beschaffung, Rechnungswesen und Controlling. Ruopigenplatz 1\", metadata={'source': '/var/folders/rp/zgs4ngzd1wg1g91fz8cyj3yw0000gn/T/tmp6ewql9id/informatik.lu.ch__Organisation.txt'})]\n"
     ]
    }
   ],
   "source": [
    "query = \"Welche Projekte macht die Dienststelle Informatik?\"\n",
    "print(f\"Query: {query}\")\n",
    "docs = milvus.similarity_search(query)\n",
    "\n",
    "print(docs)"
   ]
  },
  {
   "cell_type": "code",
   "execution_count": 39,
   "metadata": {},
   "outputs": [],
   "source": [
    "from langchain.prompts import PromptTemplate\n",
    "language = \"German\"\n",
    "prompt_template = f\"\"\"You are an assistant that answers questions about the Kanton Luzern,\n",
    " based on given information. Only use the information that was provided below.\n",
    " Use the following pieces of context to answer the question at the end.\n",
    " If you don't know the answer, just say that you don't know, don't try to make up an answer.\n",
    "\n",
    "{{context}}\n",
    "\n",
    "Question: {{question}}\n",
    "Answer in {language}:\"\"\"\n",
    "PROMPT = PromptTemplate(\n",
    "    template=prompt_template, input_variables=[\"context\", \"question\"]\n",
    ")\n",
    "chain_type_kwargs = {\"prompt\": PROMPT}"
   ]
  },
  {
   "cell_type": "code",
   "execution_count": 40,
   "metadata": {},
   "outputs": [],
   "source": [
    "from langchain.chains.qa_with_sources import load_qa_with_sources_chain\n",
    "from langchain.chains import RetrievalQA\n",
    "from langchain.chat_models import ChatOpenAI\n",
    "\n",
    "if language == 'German':\n",
    "    model_type = 'gpt-3.5-turbo-16k-0613'\n",
    "else:\n",
    "    model_type = 'gpt-4-0613'\n",
    "\n",
    "llm = ChatOpenAI(model_name=model_type,temperature=0.0)\n",
    "qa = RetrievalQA.from_chain_type(llm=llm, \n",
    "                                 retriever=milvus.as_retriever(),\n",
    "                                 chain_type='stuff',\n",
    "                                 return_source_documents=True,\n",
    "                                 chain_type_kwargs=chain_type_kwargs)\n",
    "result = qa({\"query\": query})"
   ]
  },
  {
   "cell_type": "code",
   "execution_count": 41,
   "metadata": {},
   "outputs": [
    {
     "name": "stdout",
     "output_type": "stream",
     "text": [
      "Query: Welche Projekte macht die Dienststelle Informatik?\n",
      "('Answer: Die Dienststelle Informatik führt zahlreiche '\n",
      " 'Basisinfrastrukturprojekte durch und analysiert die Kernprozesse in den '\n",
      " 'Dienststellen, um ihr Digitalisierungspotenzial zu bewerten. Sie arbeitet '\n",
      " 'auch an der Erweiterung des Enterprise Service Bus, um den Anforderungen des '\n",
      " 'E-Government gerecht zu werden. Weitere Projekte werden in Zusammenarbeit '\n",
      " 'mit den Kunden entwickelt und umgesetzt, um Medienbrüche abzubauen und die '\n",
      " 'Digitalisierung des Kantons voranzutreiben.')\n",
      "Source: https://informatik.lu.ch/was_wir_bewegen\n",
      "Source: https://www.lu.ch/verwaltung/FD/fd_dienststellen/informatik_lu_ch\n",
      "Source: https://informatik.lu.ch/Aktuelle_Projekte/Digitaler_Kanton\n",
      "Source: https://informatik.lu.ch/Organisation\n"
     ]
    }
   ],
   "source": [
    "# Print result and source\n",
    "result_value = result['result']\n",
    "print(f'Query: {query}')\n",
    "pprint(f'Answer: {result_value}')\n",
    "\n",
    "source_value1 = result['source_documents'][0].metadata['source']\n",
    "print(f'Source: {transform_source_to_url(source_value1)}')\n",
    "source_value2 = result['source_documents'][1].metadata['source']\n",
    "print(f'Source: {transform_source_to_url(source_value2)}')\n",
    "source_value3 = result['source_documents'][2].metadata['source']\n",
    "print(f'Source: {transform_source_to_url(source_value3)}')\n",
    "source_value4 = result['source_documents'][3].metadata['source']\n",
    "print(f'Source: {transform_source_to_url(source_value4)}')\n"
   ]
  },
  {
   "cell_type": "code",
   "execution_count": null,
   "metadata": {},
   "outputs": [],
   "source": []
  }
 ],
 "metadata": {
  "kernelspec": {
   "display_name": "Python 3",
   "language": "python",
   "name": "python3"
  },
  "language_info": {
   "codemirror_mode": {
    "name": "ipython",
    "version": 3
   },
   "file_extension": ".py",
   "mimetype": "text/x-python",
   "name": "python",
   "nbconvert_exporter": "python",
   "pygments_lexer": "ipython3",
   "version": "3.11.4"
  },
  "orig_nbformat": 4
 },
 "nbformat": 4,
 "nbformat_minor": 2
}
