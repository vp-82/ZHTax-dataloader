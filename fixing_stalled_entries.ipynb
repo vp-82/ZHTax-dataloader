{
 "cells": [
  {
   "cell_type": "code",
   "execution_count": 5,
   "metadata": {},
   "outputs": [],
   "source": [
    "from google.cloud import firestore"
   ]
  },
  {
   "cell_type": "code",
   "execution_count": 6,
   "metadata": {},
   "outputs": [],
   "source": [
    "db = firestore.Client()"
   ]
  },
  {
   "cell_type": "code",
   "execution_count": 9,
   "metadata": {},
   "outputs": [],
   "source": [
    "from google.cloud.firestore import FieldFilter\n",
    "\n",
    "def set_status_to_pending(db, collection_name):\n",
    "    \"\"\"\n",
    "    Set the status of documents without a filename to 'pending' in Firestore.\n",
    "\n",
    "    Args:\n",
    "    db: Firestore database instance.\n",
    "    collection_name: Name of the collection.\n",
    "    \"\"\"\n",
    "\n",
    "    # Get the collection\n",
    "    collection_ref = db.collection(collection_name)\n",
    "\n",
    "    # Define the FieldFilters\n",
    "    status_filter = FieldFilter(u'status', u'==', 'db_inserted')\n",
    "    content_type_filter = FieldFilter(u'content_type', u'==', 'text')\n",
    "\n",
    "    # Query for documents where status is 'scraped', content_type is 'text', and file_name is not 'None'\n",
    "    query = collection_ref.where(filter=status_filter)\n",
    "    query = query.where(filter=content_type_filter)\n",
    "\n",
    "    # Execute the query and get the documents\n",
    "    docs = query.stream()\n",
    "\n",
    "    # Initialize a counter\n",
    "    count = 0\n",
    "\n",
    "    # For each document, update the status to 'pending'\n",
    "    for doc in docs:\n",
    "        doc_ref = collection_ref.document(doc.id)\n",
    "        doc_ref.update({\n",
    "            u'status': 'scraped'\n",
    "        })\n",
    "        count += 1\n",
    "\n",
    "    print(f\"Status updated for {count} documents with status db_inserted.\")\n"
   ]
  },
  {
   "cell_type": "code",
   "execution_count": 10,
   "metadata": {},
   "outputs": [
    {
     "name": "stdout",
     "output_type": "stream",
     "text": [
      "Status updated for 1089 documents with status db_inserted.\n"
     ]
    }
   ],
   "source": [
    "set_status_to_pending(db, 'LuGPT')"
   ]
  },
  {
   "cell_type": "code",
   "execution_count": null,
   "metadata": {},
   "outputs": [],
   "source": []
  }
 ],
 "metadata": {
  "kernelspec": {
   "display_name": "Python 3",
   "language": "python",
   "name": "python3"
  },
  "language_info": {
   "codemirror_mode": {
    "name": "ipython",
    "version": 3
   },
   "file_extension": ".py",
   "mimetype": "text/x-python",
   "name": "python",
   "nbconvert_exporter": "python",
   "pygments_lexer": "ipython3",
   "version": "3.11.4"
  },
  "orig_nbformat": 4
 },
 "nbformat": 4,
 "nbformat_minor": 2
}
