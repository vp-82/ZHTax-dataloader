{
 "cells": [
  {
   "cell_type": "code",
   "execution_count": 1,
   "metadata": {},
   "outputs": [],
   "source": [
    "from langchain.embeddings.openai import OpenAIEmbeddings\n",
    "from langchain.vectorstores import Milvus\n",
    "from langchain.document_loaders import TextLoader\n",
    "from langchain.text_splitter import CharacterTextSplitter\n",
    "import os\n",
    "import ipywidgets as widgets\n",
    "from IPython.display import display\n",
    "from dotenv import load_dotenv"
   ]
  },
  {
   "cell_type": "code",
   "execution_count": 2,
   "metadata": {},
   "outputs": [],
   "source": [
    "load_dotenv()  # take environment variables from .env.\n",
    "openai_api_key = os.getenv('OPENAI_API_KEY')\n",
    "milvus_api_key = os.getenv('MILVUS_API_KEY')\n",
    "\n",
    "connection_args={\n",
    "        \"uri\": \"https://in03-5052868020ac71b.api.gcp-us-west1.zillizcloud.com\",\n",
    "        \"user\": \"vaclav@pechtor.ch\",\n",
    "        \"token\": milvus_api_key,\n",
    "        \"secure\": True\n",
    "    }\n"
   ]
  },
  {
   "cell_type": "code",
   "execution_count": 5,
   "metadata": {},
   "outputs": [],
   "source": [
    "directory = './datasets/'\n",
    "docs = []"
   ]
  },
  {
   "cell_type": "code",
   "execution_count": 6,
   "metadata": {},
   "outputs": [],
   "source": [
    "for filename in os.listdir(directory):\n",
    "    filepath = os.path.join(directory, filename)\n",
    "    loader = TextLoader(filepath)\n",
    "    doc = loader.load()\n",
    "    docs.extend(doc)"
   ]
  },
  {
   "cell_type": "code",
   "execution_count": 7,
   "metadata": {},
   "outputs": [
    {
     "name": "stderr",
     "output_type": "stream",
     "text": [
      "Created a chunk of size 1162, which is longer than the specified 1024\n",
      "Created a chunk of size 1239, which is longer than the specified 1024\n",
      "Created a chunk of size 1081, which is longer than the specified 1024\n",
      "Created a chunk of size 1078, which is longer than the specified 1024\n",
      "Created a chunk of size 1173, which is longer than the specified 1024\n",
      "Created a chunk of size 3424, which is longer than the specified 1024\n",
      "Created a chunk of size 3257, which is longer than the specified 1024\n",
      "Created a chunk of size 1985, which is longer than the specified 1024\n",
      "Created a chunk of size 2477, which is longer than the specified 1024\n",
      "Created a chunk of size 1078, which is longer than the specified 1024\n",
      "Created a chunk of size 1173, which is longer than the specified 1024\n"
     ]
    }
   ],
   "source": [
    "text_splitter = CharacterTextSplitter(chunk_size=1024, chunk_overlap=0)\n",
    "docs = text_splitter.split_documents(docs)"
   ]
  },
  {
   "cell_type": "code",
   "execution_count": 9,
   "metadata": {},
   "outputs": [],
   "source": [
    "embeddings = OpenAIEmbeddings()\n",
    "\n",
    "vector_store = Milvus.from_documents(\n",
    "    docs,\n",
    "    embedding=embeddings,\n",
    "    connection_args=connection_args,\n",
    "    collection_name='Simple_DIIN_Chat'\n",
    ")"
   ]
  },
  {
   "cell_type": "code",
   "execution_count": 10,
   "metadata": {},
   "outputs": [
    {
     "data": {
      "application/vnd.jupyter.widget-view+json": {
       "model_id": "7bc9c7c6be1643e6b584ca56b07eeda0",
       "version_major": 2,
       "version_minor": 0
      },
      "text/plain": [
       "Text(value='')"
      ]
     },
     "metadata": {},
     "output_type": "display_data"
    }
   ],
   "source": [
    "# Create text widget for input\n",
    "input_text = widgets.Text()\n",
    "\n",
    "# Create a global variable to hold the input\n",
    "query = \"\"\n",
    "\n",
    "# Create function to update the query variable\n",
    "def update_query(change):\n",
    "    global query\n",
    "    query = change.new\n",
    "\n",
    "# Tell the text widget to call update_query() function when its value changes\n",
    "input_text.observe(update_query, 'value')\n",
    "\n",
    "# Display the text widget\n",
    "display(input_text)"
   ]
  },
  {
   "cell_type": "code",
   "execution_count": 12,
   "metadata": {},
   "outputs": [
    {
     "name": "stdout",
     "output_type": "stream",
     "text": [
      "Query: Was ist das UCC Projekt?\n",
      "[Document(page_content='Die Digitalisierung ist keinem kurzen oder längeren Trend unterworfen. Sie ist ein fortlaufender Prozess, der unseren Alltag beeinflusst. Abläufe werden einfacher, effizienter und schneller.\\xa0\\nDas Projekt «integrierte Kommunikations- und Kollaborationslösung», kurz UCC, wird die bestehende Telefonanlage in der kantonalen Verwaltung ablösen. Die dabei eingesetzte Software Skype fasst verschiedene Kommunikationsmöglichkeiten zusammen. Die bisherigen Möglichkeiten der Kommunikation bleiben bestehen. Skype eröffnet aber zusätzliche Varianten an Kommunikationsformen wie etwa die Chat-Funktion oder die Möglichkeit von Videokonferenzen.', metadata={'source': './datasets/informatik.lu.ch__.txt'}), Document(page_content='Die Digitalisierung ist keinem kurzen oder längeren Trend unterworfen. Sie ist ein fortlaufender Prozess, der unseren Alltag beeinflusst. Abläufe werden einfacher, effizienter und schneller.\\xa0\\nDas Projekt «integrierte Kommunikations- und Kollaborationslösung», kurz UCC, wird die bestehende Telefonanlage in der kantonalen Verwaltung ablösen. Die dabei eingesetzte Software Skype fasst verschiedene Kommunikationsmöglichkeiten zusammen. Die bisherigen Möglichkeiten der Kommunikation bleiben bestehen. Skype eröffnet aber zusätzliche Varianten an Kommunikationsformen wie etwa die Chat-Funktion oder die Möglichkeit von Videokonferenzen.', metadata={'source': './datasets/informatik.lu.ch.txt'}), Document(page_content='Die Digitalisierung ist ein fortlaufender Prozess, der unseren Alltag beeinflusst. Abläufe werden einfacher, effizienter und schneller.\\xa0\\nDas Projekt «Unified Communications & Collaboration» (UCC) hat die Ablösung der bestehenden Telefonanlage in der kantonalen Verwaltung durch eine integrierte Kommunikations- und Kollaborationslösung zum Ziel. Die dabei eingesetzte Software Skype fasst verschiedene Kommunikationsmöglichkeiten zusammen. Zu den bisherigen Kommunikationsformen kommen neue hinzu, wie etwa die Chat- oder die Videokonferenz-Funktion. Statusanzeigen erleichtern dabei die Kontaktaufnahme. Die Erreichbarkeit der Anwenderinnen und Anwender wird verbessert.\\nDie Desktop Sharing- und die Collaboration-Funktionen vereinfachen die Online-Zusammenarbeit innerhalb der Verwaltung und mit externen Stellen. Ein Austausch über die neuen Kanäle kann spontan geschehen und die Effizienz steigern.\\nVor der Einführung von Skype erhalten alle Mitarbeitenden eine ausführliche Schulung mittels E-Learning. Zudem wird das Projekt durch die Fachstelle Change Management begleitet.', metadata={'source': './datasets/informatik.lu.ch__Aktuelle_Projekte__UCC.txt'}), Document(page_content='Die IT-Architektur von Skype wird gemäss den Best Practices des Herstellers redundant und hoch verfügbar aufgebaut. Die zusätzlichen Anwendungen für die Vermittlerzentrale, die Callcenter sowie die Sprachaufzeichnung sind ebenso Best Practice-konform sowie redundant implementiert. Daneben gibt es Management- und Monitoring-Systeme, welche die gesamten UCC-Systeme betreffen.\\nDie einzelnen Systeme der UCC-Anwendungen sind als Pool sowie im Clusterverbund konfiguriert und in zwei Rechenzentren aktiv vorhanden. Damit wird unter anderem eine sehr hohe Verfügbarkeit erreicht und die Grundlage für eine stabile UCC-Performance sowie eine gute Qualität der einzelnen Dienste (Audio-, Videokonferenzen etc.) geschaffen.\\nDas UCC-System wird für die teilautomatisierte Telefonnummern-Administration verwendet und in die Ein- und Austrittsprozesse (von über 6000 Mitarbeitenden) integriert. Auch die über 1000 unpersönlichen IP-Telefone werden als Ressourcen in die automatisierten Prozesse integriert, was die Verwaltung wesentlich vereinfacht. Damit werden auch die im Kanton Luzern vorhandenen Telefonnummernkreise berücksichtigt und die bis anhin manuelle Administration teilweise abgelöst. Schaltungen für Öffnungszeiten, Ansagen, Weiterleitungen, Callcenter können nach wie vor bei Bedarf dynamisch übersteuert werden.\\nIn Zusammenarbeit mit externen Partnern implementiert die Dienststelle Informatik das UCC-System in der Verwaltung des Kantons Luzern, was zur Ablösung der klassischen Telefonanlage und Peripheriegeräten (z.B. Telefonapparaten) führt.\\xa0\\nDer Betrieb und die Wartung des komplexen UCC-Systems erfordern ein entsprechendes Experten-Knowhow, welches bei Mitarbeitenden der Dienststelle Informatik sowie externen Partnern vorhanden ist. Die externen Partner ermöglichen zudem einen 7 x 24 Stunden-Betrieb der gesamten UCC-Systeme.\\nDie bestehenden ITSM-Prozesse der Dienststelle Informatik werden um das UCC-System ergänzt. Damit wird die optimale Unterstützung bei Kundenfragen gewährleistet sowie die Lösung von allfälligen Problemen gemanagt. Das Servicemanagement und die Anwendungsverantwortlichen der Dienststelle Informatik sorgen dafür, dass das UCC-System den definierten Anwendungsanforderungen entsprechen. Zudem können über diese Kanäle die künftigen dienstlichen, technischen und benutzerspezifischen Anforderungen berücksichtigt und das UCC-System bei Bedarf weiter ausgebaut und stetig aktualisiert werden.', metadata={'source': './datasets/informatik.lu.ch__Aktuelle_Projekte__UCC.txt'})]\n"
     ]
    }
   ],
   "source": [
    "# query = \"Was ist SAFe?\"\n",
    "print(f\"Query: {query}\")\n",
    "docs = vector_store.similarity_search(query)\n",
    "\n",
    "print(docs)"
   ]
  },
  {
   "cell_type": "code",
   "execution_count": 21,
   "metadata": {},
   "outputs": [],
   "source": [
    "from langchain.chains.qa_with_sources import load_qa_with_sources_chain\n",
    "from langchain.chains import RetrievalQA\n",
    "from langchain.chat_models import ChatOpenAI\n",
    "\n",
    "llm = ChatOpenAI(model_name='gpt-4',temperature=0.0)\n",
    "qa = RetrievalQA.from_chain_type(llm=llm, \n",
    "                                 retriever=vector_store.as_retriever(),\n",
    "                                 chain_type='stuff',\n",
    "                                 return_source_documents=True)\n",
    "result = qa({\"query\": query})"
   ]
  },
  {
   "cell_type": "code",
   "execution_count": 23,
   "metadata": {},
   "outputs": [
    {
     "name": "stdout",
     "output_type": "stream",
     "text": [
      "Query: Was ist das UCC Projekt?\n",
      "Result: {'query': 'Was ist das UCC Projekt?', 'result': 'Das UCC-Projekt (Unified Communications & Collaboration) ist ein Projekt, das die Ablösung der bestehenden Telefonanlage in der kantonalen Verwaltung durch eine integrierte Kommunikations- und Kollaborationslösung zum Ziel hat. Die dabei eingesetzte Software Skype fasst verschiedene Kommunikationsmöglichkeiten zusammen und eröffnet zusätzliche Varianten an Kommunikationsformen wie Chat-Funktion, Videokonferenzen, Desktop Sharing und Collaboration-Funktionen. Dies soll die Online-Zusammenarbeit innerhalb der Verwaltung und mit externen Stellen vereinfachen und die Effizienz steigern. Vor der Einführung von Skype erhalten alle Mitarbeitenden eine ausführliche Schulung mittels E-Learning, und das Projekt wird durch die Fachstelle Change Management begleitet.', 'source_documents': [Document(page_content='Die Digitalisierung ist keinem kurzen oder längeren Trend unterworfen. Sie ist ein fortlaufender Prozess, der unseren Alltag beeinflusst. Abläufe werden einfacher, effizienter und schneller.\\xa0\\nDas Projekt «integrierte Kommunikations- und Kollaborationslösung», kurz UCC, wird die bestehende Telefonanlage in der kantonalen Verwaltung ablösen. Die dabei eingesetzte Software Skype fasst verschiedene Kommunikationsmöglichkeiten zusammen. Die bisherigen Möglichkeiten der Kommunikation bleiben bestehen. Skype eröffnet aber zusätzliche Varianten an Kommunikationsformen wie etwa die Chat-Funktion oder die Möglichkeit von Videokonferenzen.', metadata={'source': './datasets/informatik.lu.ch__.txt'}), Document(page_content='Die Digitalisierung ist keinem kurzen oder längeren Trend unterworfen. Sie ist ein fortlaufender Prozess, der unseren Alltag beeinflusst. Abläufe werden einfacher, effizienter und schneller.\\xa0\\nDas Projekt «integrierte Kommunikations- und Kollaborationslösung», kurz UCC, wird die bestehende Telefonanlage in der kantonalen Verwaltung ablösen. Die dabei eingesetzte Software Skype fasst verschiedene Kommunikationsmöglichkeiten zusammen. Die bisherigen Möglichkeiten der Kommunikation bleiben bestehen. Skype eröffnet aber zusätzliche Varianten an Kommunikationsformen wie etwa die Chat-Funktion oder die Möglichkeit von Videokonferenzen.', metadata={'source': './datasets/informatik.lu.ch.txt'}), Document(page_content='Die Digitalisierung ist ein fortlaufender Prozess, der unseren Alltag beeinflusst. Abläufe werden einfacher, effizienter und schneller.\\xa0\\nDas Projekt «Unified Communications & Collaboration» (UCC) hat die Ablösung der bestehenden Telefonanlage in der kantonalen Verwaltung durch eine integrierte Kommunikations- und Kollaborationslösung zum Ziel. Die dabei eingesetzte Software Skype fasst verschiedene Kommunikationsmöglichkeiten zusammen. Zu den bisherigen Kommunikationsformen kommen neue hinzu, wie etwa die Chat- oder die Videokonferenz-Funktion. Statusanzeigen erleichtern dabei die Kontaktaufnahme. Die Erreichbarkeit der Anwenderinnen und Anwender wird verbessert.\\nDie Desktop Sharing- und die Collaboration-Funktionen vereinfachen die Online-Zusammenarbeit innerhalb der Verwaltung und mit externen Stellen. Ein Austausch über die neuen Kanäle kann spontan geschehen und die Effizienz steigern.\\nVor der Einführung von Skype erhalten alle Mitarbeitenden eine ausführliche Schulung mittels E-Learning. Zudem wird das Projekt durch die Fachstelle Change Management begleitet.', metadata={'source': './datasets/informatik.lu.ch__Aktuelle_Projekte__UCC.txt'}), Document(page_content='Die IT-Architektur von Skype wird gemäss den Best Practices des Herstellers redundant und hoch verfügbar aufgebaut. Die zusätzlichen Anwendungen für die Vermittlerzentrale, die Callcenter sowie die Sprachaufzeichnung sind ebenso Best Practice-konform sowie redundant implementiert. Daneben gibt es Management- und Monitoring-Systeme, welche die gesamten UCC-Systeme betreffen.\\nDie einzelnen Systeme der UCC-Anwendungen sind als Pool sowie im Clusterverbund konfiguriert und in zwei Rechenzentren aktiv vorhanden. Damit wird unter anderem eine sehr hohe Verfügbarkeit erreicht und die Grundlage für eine stabile UCC-Performance sowie eine gute Qualität der einzelnen Dienste (Audio-, Videokonferenzen etc.) geschaffen.\\nDas UCC-System wird für die teilautomatisierte Telefonnummern-Administration verwendet und in die Ein- und Austrittsprozesse (von über 6000 Mitarbeitenden) integriert. Auch die über 1000 unpersönlichen IP-Telefone werden als Ressourcen in die automatisierten Prozesse integriert, was die Verwaltung wesentlich vereinfacht. Damit werden auch die im Kanton Luzern vorhandenen Telefonnummernkreise berücksichtigt und die bis anhin manuelle Administration teilweise abgelöst. Schaltungen für Öffnungszeiten, Ansagen, Weiterleitungen, Callcenter können nach wie vor bei Bedarf dynamisch übersteuert werden.\\nIn Zusammenarbeit mit externen Partnern implementiert die Dienststelle Informatik das UCC-System in der Verwaltung des Kantons Luzern, was zur Ablösung der klassischen Telefonanlage und Peripheriegeräten (z.B. Telefonapparaten) führt.\\xa0\\nDer Betrieb und die Wartung des komplexen UCC-Systems erfordern ein entsprechendes Experten-Knowhow, welches bei Mitarbeitenden der Dienststelle Informatik sowie externen Partnern vorhanden ist. Die externen Partner ermöglichen zudem einen 7 x 24 Stunden-Betrieb der gesamten UCC-Systeme.\\nDie bestehenden ITSM-Prozesse der Dienststelle Informatik werden um das UCC-System ergänzt. Damit wird die optimale Unterstützung bei Kundenfragen gewährleistet sowie die Lösung von allfälligen Problemen gemanagt. Das Servicemanagement und die Anwendungsverantwortlichen der Dienststelle Informatik sorgen dafür, dass das UCC-System den definierten Anwendungsanforderungen entsprechen. Zudem können über diese Kanäle die künftigen dienstlichen, technischen und benutzerspezifischen Anforderungen berücksichtigt und das UCC-System bei Bedarf weiter ausgebaut und stetig aktualisiert werden.', metadata={'source': './datasets/informatik.lu.ch__Aktuelle_Projekte__UCC.txt'})]}\n"
     ]
    }
   ],
   "source": [
    "print(f'Query: {query}')\n",
    "print(f'Result: {result}')"
   ]
  },
  {
   "cell_type": "code",
   "execution_count": null,
   "metadata": {},
   "outputs": [],
   "source": []
  }
 ],
 "metadata": {
  "kernelspec": {
   "display_name": "Python 3",
   "language": "python",
   "name": "python3"
  },
  "language_info": {
   "codemirror_mode": {
    "name": "ipython",
    "version": 3
   },
   "file_extension": ".py",
   "mimetype": "text/x-python",
   "name": "python",
   "nbconvert_exporter": "python",
   "pygments_lexer": "ipython3",
   "version": "3.11.4"
  },
  "orig_nbformat": 4
 },
 "nbformat": 4,
 "nbformat_minor": 2
}
