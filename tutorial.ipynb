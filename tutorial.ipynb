{
 "cells": [
  {
   "cell_type": "code",
   "execution_count": 10,
   "metadata": {},
   "outputs": [
    {
     "name": "stderr",
     "output_type": "stream",
     "text": [
      "Created a chunk of size 1668, which is longer than the specified 1024\n"
     ]
    }
   ],
   "source": [
    "from langchain.embeddings.openai import OpenAIEmbeddings\n",
    "from langchain.vectorstores import Milvus\n",
    "from langchain.document_loaders import WebBaseLoader, TextLoader\n",
    "from langchain.text_splitter import CharacterTextSplitter\n",
    "import os\n",
    "\n",
    "loader = TextLoader('./datasets/www.lu.ch.txt')\n",
    "\n",
    "docs = loader.load()\n",
    "\n",
    "text_splitter = CharacterTextSplitter(chunk_size=1024, chunk_overlap=0)\n",
    "docs = text_splitter.split_documents(docs)\n"
   ]
  },
  {
   "cell_type": "code",
   "execution_count": 11,
   "metadata": {},
   "outputs": [],
   "source": [
    "connection_args={\n",
    "        \"uri\": \"https://in03-5052868020ac71b.api.gcp-us-west1.zillizcloud.com\",\n",
    "        \"user\": \"vaclav@pechtor.ch\",\n",
    "        \"token\": \"\",\n",
    "        \"secure\": True\n",
    "    }\n",
    "\n",
    "os.environ[\"OPENAI_API_KEY\"] = ''"
   ]
  },
  {
   "cell_type": "code",
   "execution_count": 12,
   "metadata": {},
   "outputs": [],
   "source": [
    "embeddings = OpenAIEmbeddings()\n",
    "\n",
    "vector_store = Milvus.from_documents(\n",
    "    docs,\n",
    "    embedding=embeddings,\n",
    "    connection_args=connection_args\n",
    ")\n"
   ]
  },
  {
   "cell_type": "code",
   "execution_count": 15,
   "metadata": {},
   "outputs": [
    {
     "name": "stdout",
     "output_type": "stream",
     "text": [
      "[Document(page_content='Der Kantonsrat Luzern trifft sich nach den Wahlen vom April am Montag, 19. Juni 2023 erstmals in seiner neuen Zusammensetzung zur konstituierenden Sitzung, dabei wird auch das Präsidium neu gewählt. Danach beginnt die 1. Session der Legislatur 2023-2027. Der Kantonsrat tagt am 19./20. und 26. Juni 2023. Traktandiert ist unter anderem der Sonderkredit für die Erweiterung und Erneuerung der Kantonsschule Sursee für rund 69,5 Millionen Franken.\\xa0\\nZum Abschluss der Juni-Session werden die drei abtretenden Regierungsräte Guido Graf, Marcel Schwerzmann und Paul Winiker verabschiedet.\\nAuf der\\xa0Traktandenliste\\xa0stehen über 130 Geschäfte.\\nZum Live-Stream im Vollbild.\\nDie Luzerner Stimmberechtigten haben mit 64 Prozent Ja-Stimmen den Sonderkredit in der Höhe von 70,6 Millionen Franken für die Ost- und Westumfahrung des historischen Ortskerns von Beromünster genehmigt. \\nMedienmitteilung vom 18. Juni 2023', metadata={'source': './datasets/www.lu.ch.txt'}), Document(page_content='Auf eidgenössischer Ebene wurde über die OECD-Mindestbesteuerung, das Klima-Gesetz sowie das COVID-19-Gesetz abgestimmt. Im Kanton Luzern wurden alle drei Vorlagen angenommen.\\nZu den Resultaten aus dem Kanton\\nDer Regierungsrat eröffnet die Vernehmlassung für ein neu entwickeltes Tourismusleitbild. Dieses bildet die strategische Grundlage dafür, wie sich der Tourismus und die kantonale Tourismusförderung im Kanton Luzern künftig ausrichten und entwickeln sollen. Die öffentliche Vernehmlassung läuft bis 4. September 2023.\\nMedienmitteilung vom 2. Juni 2023\\nVernehmlassung Tourismusleitbild \\nDer Kanton Luzern bezahlt 2024 im Rahmen des interkantonalen Finanzausgleichs insgesamt 126,4 Millionen an die Gemeinden. Hinzu kommen Auszahlungen der ressourcenstarken Gemeinden an die finanzschwachen Kommunen. Insgesamt fliessen so 184,2 Millionen Franken, über neun Prozent mehr als im Vorjahr.\\nMedienmitteilung vom 13. Juni 2023\\nDie Seetalstrasse in Emmen Dorf ist chronisch überlastet. Mit einer Variantenstudie wurde abgeklärt, wie die Verkehrssituation verbessert werden kann. Das Resultat: Keine Umfahrung, kein Tunnel, sondern eine Optimierung steht im Fokus. Nun startet die Planung für die Neugestaltung der Seetalstrasse zwischen Ober-Grundhof und Kreisel Flugzeugwerke.\\nProjektüberblick und weitere Infos\\nDie Mobilitätswende ist in aller Munde. Hast du einen zukunftsträchtige Idee und bist auf der Suche nach einem finanziellen \"Zustupf\" für deren Umsetzung? Das Bau-, Umwelt- und Wirtschaftsdepartement (BUWD) des Kantons Luzern unterstützt zusammen mit Luzernmobil innovative Mobilitätsprojekte. In diesem Jahr stehen insgesamt 40\\'000 Franken zur Verfügung.', metadata={'source': './datasets/www.lu.ch.txt'}), Document(page_content='luzernmobil.ch/innovationen\\nDer Krieg in der Ukraine beschäftigt die Luzerner Bevölkerung und die kantonalen Organe. Der Kanton Luzern ergänzt laufend die wichtigsten Informationen und Hinweise.\\nKanton Luzern\\nLIVE: Juni-Session des Kantonsrates\\nJudith Schmutz ist Kantonsratspräsidentin\\nAufzeichnung vergangener Sessionshalbtage\\nKantonsschule Sursee\\nMobilität und Verkehr im Kanton Luzern\\nDenkmalpflege und Archäologie - dreidimensional, sinnlich erlebbar\\nDer Kanton Luzern will das Marktpotenzial im Biolandbau besser nutzen\\nStrategie für die Breitbanderschliessung\\nÜber 200 Geodatenprodukte des Kantons Luzern auf opendata.swiss verfügbar\\nFrisch, froh, frech: Die Heidegg Home Story\\nGesuche jetzt einreichen!\\nDer aktualisierte Energiespiegel für Gemeinden ist online\\nJetzt anmelden!\\nJagdgesellschaften helfen Rehkitze zu retten\\nLuzern sagt deutlich Ja zur Umfahrung Beromünster\\nVernehmlassungsstart zum neuen Tourismusleitbild\\nHöhere Zahlungen an die Gemeinden für Ressourcen- und Lastenausgleich\\nSeetalstrasse Emmen Dorf: Start zur Neugestaltung\\nBefragung zur Arbeitssituation der Lehrpersonen im Kanton Luzern\\nMobilitätsreformer\\nRachmaninoffs Villa Senar ist öffentlich zugänglich und wird kulturell belebt\\nJahresrechnung 2022 mit Überschuss von 204,5 Millionen Franken\\nErfolgreiches Pilotprojekt «viamia» wird weitergeführt\\nUkraine: aktuelle Infos\\nMangellage Energie\\nAlle Informationen zur Corona-Pandemie', metadata={'source': './datasets/www.lu.ch.txt'}), Document(page_content='luzernmobil.ch/innovationen', metadata={'source': './datasets/www.lu.ch.txt'})]\n"
     ]
    }
   ],
   "source": [
    "query = \"Wann trifft sich der Kantonsrat nach den Wahlen?\"\n",
    "docs = vector_store.similarity_search(query)\n",
    "\n",
    "print(docs)\n"
   ]
  },
  {
   "cell_type": "code",
   "execution_count": 16,
   "metadata": {},
   "outputs": [
    {
     "data": {
      "text/plain": [
       "{'intermediate_steps': [' Der Kantonsrat Luzern trifft sich nach den Wahlen vom April am Montag, 19. Juni 2023 erstmals in seiner neuen Zusammensetzung zur konstituierenden Sitzung.',\n",
       "  ' None',\n",
       "  ' LIVE: Juni-Session des Kantonsrates',\n",
       "  ' None'],\n",
       " 'output_text': ' Der Kantonsrat Luzern trifft sich nach den Wahlen vom April am Montag, 19. Juni 2023 erstmals in seiner neuen Zusammensetzung zur konstituierenden Sitzung.\\nSOURCES: ./datasets/www.lu.ch.txt'}"
      ]
     },
     "execution_count": 16,
     "metadata": {},
     "output_type": "execute_result"
    }
   ],
   "source": [
    "from langchain.chains.qa_with_sources import load_qa_with_sources_chain\n",
    "from langchain.llms import OpenAI\n",
    "\n",
    "chain = load_qa_with_sources_chain(OpenAI(temperature=0), chain_type=\"map_reduce\", return_intermediate_steps=True)\n",
    "query = \"Wann trifft sich der Kantonsrat nach den Wahlen?\"\n",
    "chain({\"input_documents\": docs, \"question\": query}, return_only_outputs=True)"
   ]
  },
  {
   "cell_type": "code",
   "execution_count": null,
   "metadata": {},
   "outputs": [],
   "source": []
  }
 ],
 "metadata": {
  "kernelspec": {
   "display_name": "Python 3",
   "language": "python",
   "name": "python3"
  },
  "language_info": {
   "codemirror_mode": {
    "name": "ipython",
    "version": 3
   },
   "file_extension": ".py",
   "mimetype": "text/x-python",
   "name": "python",
   "nbconvert_exporter": "python",
   "pygments_lexer": "ipython3",
   "version": "3.11.4"
  },
  "orig_nbformat": 4
 },
 "nbformat": 4,
 "nbformat_minor": 2
}
