{
 "cells": [
  {
   "cell_type": "code",
   "execution_count": 9,
   "metadata": {},
   "outputs": [],
   "source": [
    "from langchain.embeddings.openai import OpenAIEmbeddings\n",
    "from langchain.vectorstores import Milvus\n",
    "from langchain.document_loaders import TextLoader\n",
    "from langchain.text_splitter import CharacterTextSplitter\n",
    "import os\n",
    "from dotenv import load_dotenv"
   ]
  },
  {
   "cell_type": "code",
   "execution_count": 10,
   "metadata": {},
   "outputs": [],
   "source": [
    "load_dotenv()  # take environment variables from .env.\n",
    "openai_api_key = os.getenv('OPENAI_API_KEY')\n",
    "milvus_api_key = os.getenv('MILVUS_API_KEY')\n",
    "\n",
    "connection_args={\n",
    "        \"uri\": \"https://in03-5052868020ac71b.api.gcp-us-west1.zillizcloud.com\",\n",
    "        \"user\": \"vaclav@pechtor.ch\",\n",
    "        \"token\": milvus_api_key,\n",
    "        \"secure\": True\n",
    "    }"
   ]
  },
  {
   "cell_type": "code",
   "execution_count": 25,
   "metadata": {},
   "outputs": [],
   "source": [
    "embeddings = OpenAIEmbeddings(model=\"text-embedding-ada-002\")"
   ]
  },
  {
   "cell_type": "code",
   "execution_count": 26,
   "metadata": {},
   "outputs": [],
   "source": [
    "milvus = Milvus(embedding_function=embeddings, collection_name='LuGPT', connection_args=connection_args)"
   ]
  },
  {
   "cell_type": "code",
   "execution_count": 31,
   "metadata": {},
   "outputs": [],
   "source": [
    "query = 'Wer ist Heinz Bösch?'"
   ]
  },
  {
   "cell_type": "code",
   "execution_count": 32,
   "metadata": {},
   "outputs": [],
   "source": [
    "from langchain.chains.qa_with_sources import load_qa_with_sources_chain\n",
    "from langchain.llms import OpenAI\n",
    "from langchain.prompts import PromptTemplate\n",
    "\n",
    "from langchain.prompts import PromptTemplate\n",
    "language = \"Swiss German Dialect\"\n",
    "prompt_template = f\"\"\"You are an assistant that answers questions about the Kanton Luzern,\n",
    " based on given information. Only use the information that was provided below.\n",
    " Use the following pieces of context to answer the question at the end.\n",
    " If you don't know the answer, just say that you don't know, don't try to make up an answer.\n",
    "\n",
    "{{context}}\n",
    "\n",
    "Question: {{question}}\n",
    "Answer in {language}:\"\"\"\n",
    "PROMPT = PromptTemplate(\n",
    "    template=prompt_template, input_variables=[\"context\", \"question\"]\n",
    ")\n",
    "chain_type_kwargs = {\"prompt\": PROMPT}\n"
   ]
  },
  {
   "cell_type": "code",
   "execution_count": 33,
   "metadata": {},
   "outputs": [],
   "source": [
    "from langchain.chains.qa_with_sources import load_qa_with_sources_chain\n",
    "from langchain.chains import RetrievalQA\n",
    "from langchain.chat_models import ChatOpenAI\n",
    "\n",
    "llm = ChatOpenAI(model_name='gpt-4-0613',temperature=0.0)\n",
    "qa = RetrievalQA.from_chain_type(llm=llm, \n",
    "                                 retriever=milvus.as_retriever(),\n",
    "                                 chain_type='stuff',\n",
    "                                 return_source_documents=True,\n",
    "                                 chain_type_kwargs=chain_type_kwargs)\n",
    "result = qa({\"query\": query})"
   ]
  },
  {
   "cell_type": "code",
   "execution_count": 34,
   "metadata": {},
   "outputs": [
    {
     "name": "stdout",
     "output_type": "stream",
     "text": [
      "{'query': 'Wer ist Heinz Bösch?', 'result': 'I weiss es nöd, die Information isch nöd vorhande.', 'source_documents': [Document(page_content='Anfrage Bossart Rolf und Mit. über das heutige Verhältnis Berufsbeistände/Privatpersonen\\n\\nE\\n\\nMail', metadata={'source': '/var/folders/rp/zgs4ngzd1wg1g91fz8cyj3yw0000gn/T/tmpl48g30tv/www.lu.ch__kr__parlamentsgeschaefte__geschaeftsabo?ges=e24b5d9c1ab74cfe9253cd4f6cd103a2.txt'}), Document(page_content='Barbara Reichlin Radtke\\n\\nÂ', metadata={'source': '/var/folders/rp/zgs4ngzd1wg1g91fz8cyj3yw0000gn/T/tmpojpb7e32/www.lu.ch__verwaltung__JSD__jsd_unser_departement__jsd_kontakte_karte.txt'}), Document(page_content='Anfrage Koch Hannes und Mit. Ã¼ber die drohende Energiemangellage\\n\\nE\\n\\nMail', metadata={'source': '/var/folders/rp/zgs4ngzd1wg1g91fz8cyj3yw0000gn/T/tmpccyptw0q/www.lu.ch__kr__parlamentsgeschaefte__geschaeftsabo?ges=bb26d8cdc5fb4569bfb903705b7393af.txt'}), Document(page_content='Anfrage Bucheli Hanspeter und Mit. Ã¼ber das Bauen in der Weilerzone\\n\\nE\\n\\nMail', metadata={'source': '/var/folders/rp/zgs4ngzd1wg1g91fz8cyj3yw0000gn/T/tmpz_2cm416/www.lu.ch__kr__parlamentsgeschaefte__geschaeftsabo?ges=05b0f7ae75c14d458b17765901fde7f0.txt'})]}\n"
     ]
    }
   ],
   "source": [
    "print(result)"
   ]
  },
  {
   "cell_type": "code",
   "execution_count": null,
   "metadata": {},
   "outputs": [],
   "source": []
  }
 ],
 "metadata": {
  "kernelspec": {
   "display_name": "Python 3",
   "language": "python",
   "name": "python3"
  },
  "language_info": {
   "codemirror_mode": {
    "name": "ipython",
    "version": 3
   },
   "file_extension": ".py",
   "mimetype": "text/x-python",
   "name": "python",
   "nbconvert_exporter": "python",
   "pygments_lexer": "ipython3",
   "version": "3.11.4"
  },
  "orig_nbformat": 4
 },
 "nbformat": 4,
 "nbformat_minor": 2
}
